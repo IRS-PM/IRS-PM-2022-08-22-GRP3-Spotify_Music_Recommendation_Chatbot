{
 "cells": [
  {
   "cell_type": "code",
   "execution_count": 1,
   "metadata": {
    "collapsed": true
   },
   "outputs": [],
   "source": [
    "import dialogflow\n",
    "from google.api_core.exceptions import InvalidArgument\n",
    "import os\n",
    "from urllib.parse import urlencode\n",
    "def create_session(project_id, session_id):\n",
    "    session_client = dialogflow.SessionsClient()\n",
    "    session = session_client.session_path(project_id, session_id)\n",
    "    return session_client, session\n",
    "\n",
    "\n",
    "def process_usertext(session_client, session, usertext, language_code):\n",
    "    text_input = dialogflow.types.TextInput(text=usertext, language_code=language_code)\n",
    "    query_input = dialogflow.types.QueryInput(text=text_input)\n",
    "    try:\n",
    "        response = session_client.detect_intent(session=session, query_input=query_input)\n",
    "    except InvalidArgument:\n",
    "        raise\n",
    "    return response.query_result.intent.display_name, response.query_result.parameters.fields"
   ]
  },
  {
   "cell_type": "code",
   "execution_count": 2,
   "outputs": [],
   "source": [
    "if __name__ == '__main__':\n",
    "    os.environ[\"GOOGLE_APPLICATION_CREDENTIALS\"] ='irsproject-hlxj-c4f9641c86f0.json'\n",
    "    DIALOGFLOW_PROJECT_ID = 'irsproject-hlxj'\n",
    "    DIALOGFLOW_LANGUAGE_CODE = 'en'\n",
    "    SESSION_ID = 'test2'\n",
    "    session_client, session = create_session(project_id=DIALOGFLOW_PROJECT_ID, session_id=SESSION_ID)\n",
    "    usertext = \"add Soldier to my playlist\"\n",
    "    intent, parameters = process_usertext(session_client=session_client, language_code=DIALOGFLOW_LANGUAGE_CODE, session=session, usertext=usertext)"
   ],
   "metadata": {
    "collapsed": false
   }
  },
  {
   "cell_type": "code",
   "execution_count": 3,
   "outputs": [
    {
     "data": {
      "text/plain": "{'playlist': string_value: \"playlist\"\n, 'music-name': string_value: \"Soldier\"\n}"
     },
     "execution_count": 3,
     "metadata": {},
     "output_type": "execute_result"
    }
   ],
   "source": [
    "parameters"
   ],
   "metadata": {
    "collapsed": false
   }
  },
  {
   "cell_type": "code",
   "execution_count": 4,
   "outputs": [
    {
     "data": {
      "text/plain": "'playlist'"
     },
     "execution_count": 4,
     "metadata": {},
     "output_type": "execute_result"
    }
   ],
   "source": [
    "parameters['playlist'].string_value"
   ],
   "metadata": {
    "collapsed": false
   }
  },
  {
   "cell_type": "code",
   "execution_count": 30,
   "outputs": [
    {
     "data": {
      "text/plain": "string_value: \"Soldier\""
     },
     "execution_count": 30,
     "metadata": {},
     "output_type": "execute_result"
    }
   ],
   "source": [
    "parameters['music-name'].string_value"
   ],
   "metadata": {
    "collapsed": false
   }
  },
  {
   "cell_type": "code",
   "execution_count": 48,
   "outputs": [
    {
     "data": {
      "text/plain": "['Rap God']"
     },
     "execution_count": 48,
     "metadata": {},
     "output_type": "execute_result"
    }
   ],
   "source": [
    "list(dict_parameter['music_name'].list_value)"
   ],
   "metadata": {
    "collapsed": false
   }
  },
  {
   "cell_type": "code",
   "execution_count": null,
   "outputs": [],
   "source": [],
   "metadata": {
    "collapsed": false
   }
  }
 ],
 "metadata": {
  "kernelspec": {
   "display_name": "Python 3",
   "language": "python",
   "name": "python3"
  },
  "language_info": {
   "codemirror_mode": {
    "name": "ipython",
    "version": 2
   },
   "file_extension": ".py",
   "mimetype": "text/x-python",
   "name": "python",
   "nbconvert_exporter": "python",
   "pygments_lexer": "ipython2",
   "version": "2.7.6"
  }
 },
 "nbformat": 4,
 "nbformat_minor": 0
}