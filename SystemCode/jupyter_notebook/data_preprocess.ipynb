{
 "cells": [
  {
   "cell_type": "code",
   "execution_count": 1,
   "metadata": {
    "collapsed": true
   },
   "outputs": [],
   "source": [
    "import pandas as pd\n",
    "import numpy as np\n",
    "import json\n",
    "import re\n",
    "import sys\n",
    "import itertools\n",
    "\n",
    "from sklearn.feature_extraction.text import TfidfVectorizer\n",
    "from sklearn.metrics.pairwise import cosine_similarity\n",
    "from sklearn.preprocessing import MinMaxScaler\n",
    "import matplotlib.pyplot as plt\n",
    "\n",
    "\n",
    "import spotipy\n",
    "from spotipy.oauth2 import SpotifyClientCredentials\n",
    "from spotipy.oauth2 import SpotifyOAuth\n",
    "import spotipy.util as util\n",
    "\n",
    "import warnings\n",
    "warnings.filterwarnings(\"ignore\")"
   ]
  },
  {
   "cell_type": "code",
   "execution_count": 2,
   "outputs": [],
   "source": [
    "%matplotlib inline"
   ],
   "metadata": {
    "collapsed": false,
    "pycharm": {
     "name": "#%%\n"
    }
   }
  },
  {
   "cell_type": "code",
   "execution_count": 3,
   "outputs": [
    {
     "data": {
      "text/plain": "<IPython.core.display.HTML object>",
      "text/html": "<style>.container { width:90% !important; }</style>"
     },
     "metadata": {},
     "output_type": "display_data"
    }
   ],
   "source": [
    "#If you're not familiar with this, save it! Makes using jupyter notebook on laptops much easier\n",
    "from IPython.core.display import display, HTML\n",
    "display(HTML(\"<style>.container { width:90% !important; }</style>\"))"
   ],
   "metadata": {
    "collapsed": false,
    "pycharm": {
     "name": "#%%\n"
    }
   }
  },
  {
   "cell_type": "code",
   "execution_count": 4,
   "outputs": [],
   "source": [
    "# #another useful command to make data exploration easier\n",
    "# # NOTE: if you are using a massive dataset, this could slow down your code.\n",
    "# pd.set_option('display.max_columns', None)\n",
    "# pd.set_option(\"max_rows\", None)"
   ],
   "metadata": {
    "collapsed": false,
    "pycharm": {
     "name": "#%%\n"
    }
   }
  },
  {
   "cell_type": "code",
   "execution_count": 5,
   "outputs": [],
   "source": [
    "spotify_df = pd.read_csv('tracks.csv')"
   ],
   "metadata": {
    "collapsed": false,
    "pycharm": {
     "name": "#%%\n"
    }
   }
  },
  {
   "cell_type": "code",
   "execution_count": 6,
   "outputs": [
    {
     "data": {
      "text/plain": "                       id                                 name  popularity  \\\n0  35iwgR4jXetI318WEWsa1Q                                Carve           6   \n1  021ht4sdgPcrDgSk7JTbKY  Capítulo 2.16 - Banquero Anarquista           0   \n2  07A5yehtSnoedViJAZkNnc   Vivo para Quererte - Remasterizado           0   \n3  08FmqUhxtyLTn6pAh6bk45        El Prisionero - Remasterizado           0   \n4  08y9GfoqCWfOGsKdwojr5e                  Lady of the Evening           0   \n\n   duration_ms  explicit              artists                  id_artists  \\\n0       126903         0              ['Uli']  ['45tIt06XoI0Iio4LBEVpls']   \n1        98200         0  ['Fernando Pessoa']  ['14jtPCOoNZwquk5wd9DxrY']   \n2       181640         0  ['Ignacio Corsini']  ['5LiOoJbxVSAMkBS2fUm3X2']   \n3       176907         0  ['Ignacio Corsini']  ['5LiOoJbxVSAMkBS2fUm3X2']   \n4       163080         0      ['Dick Haymes']  ['3BiJGZsyX9sJchTqcSA7Su']   \n\n  release_date  danceability  energy  key  loudness  mode  speechiness  \\\n0   1922-02-22         0.645  0.4450    0   -13.338     1       0.4510   \n1   1922-06-01         0.695  0.2630    0   -22.136     1       0.9570   \n2   1922-03-21         0.434  0.1770    1   -21.180     1       0.0512   \n3   1922-03-21         0.321  0.0946    7   -27.961     1       0.0504   \n4         1922         0.402  0.1580    3   -16.900     0       0.0390   \n\n   acousticness  instrumentalness  liveness  valence    tempo  time_signature  \n0         0.674            0.7440     0.151    0.127  104.851               3  \n1         0.797            0.0000     0.148    0.655  102.009               1  \n2         0.994            0.0218     0.212    0.457  130.418               5  \n3         0.995            0.9180     0.104    0.397  169.980               3  \n4         0.989            0.1300     0.311    0.196  103.220               4  ",
      "text/html": "<div>\n<style scoped>\n    .dataframe tbody tr th:only-of-type {\n        vertical-align: middle;\n    }\n\n    .dataframe tbody tr th {\n        vertical-align: top;\n    }\n\n    .dataframe thead th {\n        text-align: right;\n    }\n</style>\n<table border=\"1\" class=\"dataframe\">\n  <thead>\n    <tr style=\"text-align: right;\">\n      <th></th>\n      <th>id</th>\n      <th>name</th>\n      <th>popularity</th>\n      <th>duration_ms</th>\n      <th>explicit</th>\n      <th>artists</th>\n      <th>id_artists</th>\n      <th>release_date</th>\n      <th>danceability</th>\n      <th>energy</th>\n      <th>key</th>\n      <th>loudness</th>\n      <th>mode</th>\n      <th>speechiness</th>\n      <th>acousticness</th>\n      <th>instrumentalness</th>\n      <th>liveness</th>\n      <th>valence</th>\n      <th>tempo</th>\n      <th>time_signature</th>\n    </tr>\n  </thead>\n  <tbody>\n    <tr>\n      <th>0</th>\n      <td>35iwgR4jXetI318WEWsa1Q</td>\n      <td>Carve</td>\n      <td>6</td>\n      <td>126903</td>\n      <td>0</td>\n      <td>['Uli']</td>\n      <td>['45tIt06XoI0Iio4LBEVpls']</td>\n      <td>1922-02-22</td>\n      <td>0.645</td>\n      <td>0.4450</td>\n      <td>0</td>\n      <td>-13.338</td>\n      <td>1</td>\n      <td>0.4510</td>\n      <td>0.674</td>\n      <td>0.7440</td>\n      <td>0.151</td>\n      <td>0.127</td>\n      <td>104.851</td>\n      <td>3</td>\n    </tr>\n    <tr>\n      <th>1</th>\n      <td>021ht4sdgPcrDgSk7JTbKY</td>\n      <td>Capítulo 2.16 - Banquero Anarquista</td>\n      <td>0</td>\n      <td>98200</td>\n      <td>0</td>\n      <td>['Fernando Pessoa']</td>\n      <td>['14jtPCOoNZwquk5wd9DxrY']</td>\n      <td>1922-06-01</td>\n      <td>0.695</td>\n      <td>0.2630</td>\n      <td>0</td>\n      <td>-22.136</td>\n      <td>1</td>\n      <td>0.9570</td>\n      <td>0.797</td>\n      <td>0.0000</td>\n      <td>0.148</td>\n      <td>0.655</td>\n      <td>102.009</td>\n      <td>1</td>\n    </tr>\n    <tr>\n      <th>2</th>\n      <td>07A5yehtSnoedViJAZkNnc</td>\n      <td>Vivo para Quererte - Remasterizado</td>\n      <td>0</td>\n      <td>181640</td>\n      <td>0</td>\n      <td>['Ignacio Corsini']</td>\n      <td>['5LiOoJbxVSAMkBS2fUm3X2']</td>\n      <td>1922-03-21</td>\n      <td>0.434</td>\n      <td>0.1770</td>\n      <td>1</td>\n      <td>-21.180</td>\n      <td>1</td>\n      <td>0.0512</td>\n      <td>0.994</td>\n      <td>0.0218</td>\n      <td>0.212</td>\n      <td>0.457</td>\n      <td>130.418</td>\n      <td>5</td>\n    </tr>\n    <tr>\n      <th>3</th>\n      <td>08FmqUhxtyLTn6pAh6bk45</td>\n      <td>El Prisionero - Remasterizado</td>\n      <td>0</td>\n      <td>176907</td>\n      <td>0</td>\n      <td>['Ignacio Corsini']</td>\n      <td>['5LiOoJbxVSAMkBS2fUm3X2']</td>\n      <td>1922-03-21</td>\n      <td>0.321</td>\n      <td>0.0946</td>\n      <td>7</td>\n      <td>-27.961</td>\n      <td>1</td>\n      <td>0.0504</td>\n      <td>0.995</td>\n      <td>0.9180</td>\n      <td>0.104</td>\n      <td>0.397</td>\n      <td>169.980</td>\n      <td>3</td>\n    </tr>\n    <tr>\n      <th>4</th>\n      <td>08y9GfoqCWfOGsKdwojr5e</td>\n      <td>Lady of the Evening</td>\n      <td>0</td>\n      <td>163080</td>\n      <td>0</td>\n      <td>['Dick Haymes']</td>\n      <td>['3BiJGZsyX9sJchTqcSA7Su']</td>\n      <td>1922</td>\n      <td>0.402</td>\n      <td>0.1580</td>\n      <td>3</td>\n      <td>-16.900</td>\n      <td>0</td>\n      <td>0.0390</td>\n      <td>0.989</td>\n      <td>0.1300</td>\n      <td>0.311</td>\n      <td>0.196</td>\n      <td>103.220</td>\n      <td>4</td>\n    </tr>\n  </tbody>\n</table>\n</div>"
     },
     "execution_count": 6,
     "metadata": {},
     "output_type": "execute_result"
    }
   ],
   "source": [
    "spotify_df.head()"
   ],
   "metadata": {
    "collapsed": false,
    "pycharm": {
     "name": "#%%\n"
    }
   }
  },
  {
   "cell_type": "code",
   "execution_count": 7,
   "outputs": [
    {
     "data": {
      "text/plain": "                       id  followers genres  \\\n0  0DheY5irMjBUeLybbCUEZ2        0.0     []   \n1  0DlhY15l3wsrnlfGio2bjU        5.0     []   \n2  0DmRESX2JknGPQyO15yxg7        0.0     []   \n3  0DmhnbHjm1qw6NCYPeZNgJ        0.0     []   \n4  0Dn11fWM7vHQ3rinvWEl4E        2.0     []   \n\n                                             name  popularity  \n0  Armid & Amir Zare Pashai feat. Sara Rouzbehani           0  \n1                                     ปูนา ภาวิณี           0  \n2                                           Sadaa           0  \n3                                       Tra'gruda           0  \n4                          Ioannis Panoutsopoulos           0  ",
      "text/html": "<div>\n<style scoped>\n    .dataframe tbody tr th:only-of-type {\n        vertical-align: middle;\n    }\n\n    .dataframe tbody tr th {\n        vertical-align: top;\n    }\n\n    .dataframe thead th {\n        text-align: right;\n    }\n</style>\n<table border=\"1\" class=\"dataframe\">\n  <thead>\n    <tr style=\"text-align: right;\">\n      <th></th>\n      <th>id</th>\n      <th>followers</th>\n      <th>genres</th>\n      <th>name</th>\n      <th>popularity</th>\n    </tr>\n  </thead>\n  <tbody>\n    <tr>\n      <th>0</th>\n      <td>0DheY5irMjBUeLybbCUEZ2</td>\n      <td>0.0</td>\n      <td>[]</td>\n      <td>Armid &amp; Amir Zare Pashai feat. Sara Rouzbehani</td>\n      <td>0</td>\n    </tr>\n    <tr>\n      <th>1</th>\n      <td>0DlhY15l3wsrnlfGio2bjU</td>\n      <td>5.0</td>\n      <td>[]</td>\n      <td>ปูนา ภาวิณี</td>\n      <td>0</td>\n    </tr>\n    <tr>\n      <th>2</th>\n      <td>0DmRESX2JknGPQyO15yxg7</td>\n      <td>0.0</td>\n      <td>[]</td>\n      <td>Sadaa</td>\n      <td>0</td>\n    </tr>\n    <tr>\n      <th>3</th>\n      <td>0DmhnbHjm1qw6NCYPeZNgJ</td>\n      <td>0.0</td>\n      <td>[]</td>\n      <td>Tra'gruda</td>\n      <td>0</td>\n    </tr>\n    <tr>\n      <th>4</th>\n      <td>0Dn11fWM7vHQ3rinvWEl4E</td>\n      <td>2.0</td>\n      <td>[]</td>\n      <td>Ioannis Panoutsopoulos</td>\n      <td>0</td>\n    </tr>\n  </tbody>\n</table>\n</div>"
     },
     "execution_count": 7,
     "metadata": {},
     "output_type": "execute_result"
    }
   ],
   "source": [
    "data_w_genre = pd.read_csv('artists.csv')\n",
    "data_w_genre.head()"
   ],
   "metadata": {
    "collapsed": false,
    "pycharm": {
     "name": "#%%\n"
    }
   }
  },
  {
   "cell_type": "code",
   "execution_count": 8,
   "outputs": [
    {
     "data": {
      "text/plain": "id             object\nfollowers     float64\ngenres         object\nname           object\npopularity      int64\ndtype: object"
     },
     "execution_count": 8,
     "metadata": {},
     "output_type": "execute_result"
    }
   ],
   "source": [
    "data_w_genre.dtypes"
   ],
   "metadata": {
    "collapsed": false,
    "pycharm": {
     "name": "#%%\n"
    }
   }
  },
  {
   "cell_type": "code",
   "execution_count": 9,
   "outputs": [
    {
     "data": {
      "text/plain": "'[]'"
     },
     "execution_count": 9,
     "metadata": {},
     "output_type": "execute_result"
    }
   ],
   "source": [
    "data_w_genre['genres'].values[0]"
   ],
   "metadata": {
    "collapsed": false,
    "pycharm": {
     "name": "#%%\n"
    }
   }
  },
  {
   "cell_type": "code",
   "execution_count": 10,
   "outputs": [
    {
     "data": {
      "text/plain": "'['"
     },
     "execution_count": 10,
     "metadata": {},
     "output_type": "execute_result"
    }
   ],
   "source": [
    "data_w_genre['genres'].values[0][0]"
   ],
   "metadata": {
    "collapsed": false,
    "pycharm": {
     "name": "#%%\n"
    }
   }
  },
  {
   "cell_type": "code",
   "execution_count": 11,
   "outputs": [],
   "source": [
    "data_w_genre['genres_upd'] = data_w_genre['genres'].apply(lambda x: [re.sub(' ','_',i) for i in re.findall(r\"'([^']*)'\", x)])"
   ],
   "metadata": {
    "collapsed": false,
    "pycharm": {
     "name": "#%%\n"
    }
   }
  },
  {
   "cell_type": "code",
   "execution_count": 12,
   "outputs": [
    {
     "data": {
      "text/plain": "[]"
     },
     "execution_count": 12,
     "metadata": {},
     "output_type": "execute_result"
    }
   ],
   "source": [
    "data_w_genre['genres_upd'].values[0]"
   ],
   "metadata": {
    "collapsed": false,
    "pycharm": {
     "name": "#%%\n"
    }
   }
  },
  {
   "cell_type": "code",
   "execution_count": 13,
   "outputs": [
    {
     "data": {
      "text/plain": "                       id  followers genres  \\\n0  0DheY5irMjBUeLybbCUEZ2        0.0     []   \n1  0DlhY15l3wsrnlfGio2bjU        5.0     []   \n2  0DmRESX2JknGPQyO15yxg7        0.0     []   \n3  0DmhnbHjm1qw6NCYPeZNgJ        0.0     []   \n4  0Dn11fWM7vHQ3rinvWEl4E        2.0     []   \n\n                                             name  popularity genres_upd  \n0  Armid & Amir Zare Pashai feat. Sara Rouzbehani           0         []  \n1                                     ปูนา ภาวิณี           0         []  \n2                                           Sadaa           0         []  \n3                                       Tra'gruda           0         []  \n4                          Ioannis Panoutsopoulos           0         []  ",
      "text/html": "<div>\n<style scoped>\n    .dataframe tbody tr th:only-of-type {\n        vertical-align: middle;\n    }\n\n    .dataframe tbody tr th {\n        vertical-align: top;\n    }\n\n    .dataframe thead th {\n        text-align: right;\n    }\n</style>\n<table border=\"1\" class=\"dataframe\">\n  <thead>\n    <tr style=\"text-align: right;\">\n      <th></th>\n      <th>id</th>\n      <th>followers</th>\n      <th>genres</th>\n      <th>name</th>\n      <th>popularity</th>\n      <th>genres_upd</th>\n    </tr>\n  </thead>\n  <tbody>\n    <tr>\n      <th>0</th>\n      <td>0DheY5irMjBUeLybbCUEZ2</td>\n      <td>0.0</td>\n      <td>[]</td>\n      <td>Armid &amp; Amir Zare Pashai feat. Sara Rouzbehani</td>\n      <td>0</td>\n      <td>[]</td>\n    </tr>\n    <tr>\n      <th>1</th>\n      <td>0DlhY15l3wsrnlfGio2bjU</td>\n      <td>5.0</td>\n      <td>[]</td>\n      <td>ปูนา ภาวิณี</td>\n      <td>0</td>\n      <td>[]</td>\n    </tr>\n    <tr>\n      <th>2</th>\n      <td>0DmRESX2JknGPQyO15yxg7</td>\n      <td>0.0</td>\n      <td>[]</td>\n      <td>Sadaa</td>\n      <td>0</td>\n      <td>[]</td>\n    </tr>\n    <tr>\n      <th>3</th>\n      <td>0DmhnbHjm1qw6NCYPeZNgJ</td>\n      <td>0.0</td>\n      <td>[]</td>\n      <td>Tra'gruda</td>\n      <td>0</td>\n      <td>[]</td>\n    </tr>\n    <tr>\n      <th>4</th>\n      <td>0Dn11fWM7vHQ3rinvWEl4E</td>\n      <td>2.0</td>\n      <td>[]</td>\n      <td>Ioannis Panoutsopoulos</td>\n      <td>0</td>\n      <td>[]</td>\n    </tr>\n  </tbody>\n</table>\n</div>"
     },
     "execution_count": 13,
     "metadata": {},
     "output_type": "execute_result"
    }
   ],
   "source": [
    "data_w_genre.head()"
   ],
   "metadata": {
    "collapsed": false,
    "pycharm": {
     "name": "#%%\n"
    }
   }
  },
  {
   "cell_type": "code",
   "execution_count": 14,
   "outputs": [],
   "source": [
    "spotify_df['artists_upd_v1'] = spotify_df['artists'].apply(lambda x: re.findall(r\"'([^']*)'\", x))"
   ],
   "metadata": {
    "collapsed": false,
    "pycharm": {
     "name": "#%%\n"
    }
   }
  },
  {
   "cell_type": "code",
   "execution_count": 15,
   "outputs": [
    {
     "data": {
      "text/plain": "['Uli']"
     },
     "execution_count": 15,
     "metadata": {},
     "output_type": "execute_result"
    }
   ],
   "source": [
    "spotify_df['artists_upd_v1'].values[0]"
   ],
   "metadata": {
    "collapsed": false,
    "pycharm": {
     "name": "#%%\n"
    }
   }
  },
  {
   "cell_type": "code",
   "execution_count": 16,
   "outputs": [
    {
     "data": {
      "text/plain": "'Uli'"
     },
     "execution_count": 16,
     "metadata": {},
     "output_type": "execute_result"
    }
   ],
   "source": [
    "spotify_df['artists_upd_v1'].values[0][0]"
   ],
   "metadata": {
    "collapsed": false,
    "pycharm": {
     "name": "#%%\n"
    }
   }
  },
  {
   "cell_type": "code",
   "execution_count": 17,
   "outputs": [
    {
     "data": {
      "text/plain": "                         id                     name  popularity  duration_ms  \\\n164  1xEEYhWxT4WhDQdxfPCT8D                Snake Rag          20       194533   \n170  3rauXVLOOM5BlxWqUcDpkg             Chimes Blues          14       170827   \n172  1UdqHVRFYMZKU2Q7xkLtYc     Pickin' On Your Baby          11       197493   \n174  0Vl2DO5U6FjgBpzCtBN3OA  Everybody Loves My Baby          10       152507   \n180  5SvyP1ZeJX1jA7AOZD08NA                    Tears          10       187227   \n\n     explicit                             artists                  id_artists  \\\n164         0  [\"King Oliver's Creole Jazz Band\"]  ['08Zk65toyJllap1MnzljxZ']   \n170         0  [\"King Oliver's Creole Jazz Band\"]  ['08Zk65toyJllap1MnzljxZ']   \n172         0    [\"Clarence Williams' Blue Five\"]  ['6RuQvIr0t0otZHnAxXTGkm']   \n174         0    [\"Clarence Williams' Blue Five\"]  ['6RuQvIr0t0otZHnAxXTGkm']   \n180         0  [\"King Oliver's Creole Jazz Band\"]  ['08Zk65toyJllap1MnzljxZ']   \n\n    release_date  danceability  energy  ...  loudness  mode  speechiness  \\\n164         1923         0.708   0.361  ...   -11.764     0       0.0441   \n170         1923         0.546   0.189  ...   -15.984     1       0.0581   \n172         1923         0.520   0.153  ...   -14.042     1       0.0440   \n174         1923         0.514   0.193  ...   -13.920     0       0.2380   \n180         1923         0.359   0.357  ...   -11.810     1       0.0511   \n\n     acousticness  instrumentalness  liveness  valence    tempo  \\\n164         0.994             0.883     0.103    0.902  105.695   \n170         0.996             0.908     0.339    0.554   80.318   \n172         0.995             0.131     0.353    0.319  102.937   \n174         0.996             0.199     0.248    0.665  180.674   \n180         0.994             0.819     0.290    0.753  205.053   \n\n     time_signature  artists_upd_v1  \n164               4              []  \n170               4              []  \n172               4              []  \n174               4              []  \n180               4              []  \n\n[5 rows x 21 columns]",
      "text/html": "<div>\n<style scoped>\n    .dataframe tbody tr th:only-of-type {\n        vertical-align: middle;\n    }\n\n    .dataframe tbody tr th {\n        vertical-align: top;\n    }\n\n    .dataframe thead th {\n        text-align: right;\n    }\n</style>\n<table border=\"1\" class=\"dataframe\">\n  <thead>\n    <tr style=\"text-align: right;\">\n      <th></th>\n      <th>id</th>\n      <th>name</th>\n      <th>popularity</th>\n      <th>duration_ms</th>\n      <th>explicit</th>\n      <th>artists</th>\n      <th>id_artists</th>\n      <th>release_date</th>\n      <th>danceability</th>\n      <th>energy</th>\n      <th>...</th>\n      <th>loudness</th>\n      <th>mode</th>\n      <th>speechiness</th>\n      <th>acousticness</th>\n      <th>instrumentalness</th>\n      <th>liveness</th>\n      <th>valence</th>\n      <th>tempo</th>\n      <th>time_signature</th>\n      <th>artists_upd_v1</th>\n    </tr>\n  </thead>\n  <tbody>\n    <tr>\n      <th>164</th>\n      <td>1xEEYhWxT4WhDQdxfPCT8D</td>\n      <td>Snake Rag</td>\n      <td>20</td>\n      <td>194533</td>\n      <td>0</td>\n      <td>[\"King Oliver's Creole Jazz Band\"]</td>\n      <td>['08Zk65toyJllap1MnzljxZ']</td>\n      <td>1923</td>\n      <td>0.708</td>\n      <td>0.361</td>\n      <td>...</td>\n      <td>-11.764</td>\n      <td>0</td>\n      <td>0.0441</td>\n      <td>0.994</td>\n      <td>0.883</td>\n      <td>0.103</td>\n      <td>0.902</td>\n      <td>105.695</td>\n      <td>4</td>\n      <td>[]</td>\n    </tr>\n    <tr>\n      <th>170</th>\n      <td>3rauXVLOOM5BlxWqUcDpkg</td>\n      <td>Chimes Blues</td>\n      <td>14</td>\n      <td>170827</td>\n      <td>0</td>\n      <td>[\"King Oliver's Creole Jazz Band\"]</td>\n      <td>['08Zk65toyJllap1MnzljxZ']</td>\n      <td>1923</td>\n      <td>0.546</td>\n      <td>0.189</td>\n      <td>...</td>\n      <td>-15.984</td>\n      <td>1</td>\n      <td>0.0581</td>\n      <td>0.996</td>\n      <td>0.908</td>\n      <td>0.339</td>\n      <td>0.554</td>\n      <td>80.318</td>\n      <td>4</td>\n      <td>[]</td>\n    </tr>\n    <tr>\n      <th>172</th>\n      <td>1UdqHVRFYMZKU2Q7xkLtYc</td>\n      <td>Pickin' On Your Baby</td>\n      <td>11</td>\n      <td>197493</td>\n      <td>0</td>\n      <td>[\"Clarence Williams' Blue Five\"]</td>\n      <td>['6RuQvIr0t0otZHnAxXTGkm']</td>\n      <td>1923</td>\n      <td>0.520</td>\n      <td>0.153</td>\n      <td>...</td>\n      <td>-14.042</td>\n      <td>1</td>\n      <td>0.0440</td>\n      <td>0.995</td>\n      <td>0.131</td>\n      <td>0.353</td>\n      <td>0.319</td>\n      <td>102.937</td>\n      <td>4</td>\n      <td>[]</td>\n    </tr>\n    <tr>\n      <th>174</th>\n      <td>0Vl2DO5U6FjgBpzCtBN3OA</td>\n      <td>Everybody Loves My Baby</td>\n      <td>10</td>\n      <td>152507</td>\n      <td>0</td>\n      <td>[\"Clarence Williams' Blue Five\"]</td>\n      <td>['6RuQvIr0t0otZHnAxXTGkm']</td>\n      <td>1923</td>\n      <td>0.514</td>\n      <td>0.193</td>\n      <td>...</td>\n      <td>-13.920</td>\n      <td>0</td>\n      <td>0.2380</td>\n      <td>0.996</td>\n      <td>0.199</td>\n      <td>0.248</td>\n      <td>0.665</td>\n      <td>180.674</td>\n      <td>4</td>\n      <td>[]</td>\n    </tr>\n    <tr>\n      <th>180</th>\n      <td>5SvyP1ZeJX1jA7AOZD08NA</td>\n      <td>Tears</td>\n      <td>10</td>\n      <td>187227</td>\n      <td>0</td>\n      <td>[\"King Oliver's Creole Jazz Band\"]</td>\n      <td>['08Zk65toyJllap1MnzljxZ']</td>\n      <td>1923</td>\n      <td>0.359</td>\n      <td>0.357</td>\n      <td>...</td>\n      <td>-11.810</td>\n      <td>1</td>\n      <td>0.0511</td>\n      <td>0.994</td>\n      <td>0.819</td>\n      <td>0.290</td>\n      <td>0.753</td>\n      <td>205.053</td>\n      <td>4</td>\n      <td>[]</td>\n    </tr>\n  </tbody>\n</table>\n<p>5 rows × 21 columns</p>\n</div>"
     },
     "execution_count": 17,
     "metadata": {},
     "output_type": "execute_result"
    }
   ],
   "source": [
    "spotify_df[spotify_df['artists_upd_v1'].apply(lambda x: not x)].head(5)"
   ],
   "metadata": {
    "collapsed": false,
    "pycharm": {
     "name": "#%%\n"
    }
   }
  },
  {
   "cell_type": "code",
   "execution_count": 18,
   "outputs": [],
   "source": [
    "spotify_df['artists_upd_v2'] = spotify_df['artists'].apply(lambda x: re.findall('\\\"(.*?)\\\"',x))\n",
    "spotify_df['artists_upd'] = np.where(spotify_df['artists_upd_v1'].apply(lambda x: not x), spotify_df['artists_upd_v2'], spotify_df['artists_upd_v1'] )"
   ],
   "metadata": {
    "collapsed": false,
    "pycharm": {
     "name": "#%%\n"
    }
   }
  },
  {
   "cell_type": "code",
   "execution_count": 19,
   "outputs": [
    {
     "data": {
      "text/plain": "                         id                     name  popularity  duration_ms  \\\n164  1xEEYhWxT4WhDQdxfPCT8D                Snake Rag          20       194533   \n170  3rauXVLOOM5BlxWqUcDpkg             Chimes Blues          14       170827   \n172  1UdqHVRFYMZKU2Q7xkLtYc     Pickin' On Your Baby          11       197493   \n174  0Vl2DO5U6FjgBpzCtBN3OA  Everybody Loves My Baby          10       152507   \n180  5SvyP1ZeJX1jA7AOZD08NA                    Tears          10       187227   \n\n     explicit                             artists                  id_artists  \\\n164         0  [\"King Oliver's Creole Jazz Band\"]  ['08Zk65toyJllap1MnzljxZ']   \n170         0  [\"King Oliver's Creole Jazz Band\"]  ['08Zk65toyJllap1MnzljxZ']   \n172         0    [\"Clarence Williams' Blue Five\"]  ['6RuQvIr0t0otZHnAxXTGkm']   \n174         0    [\"Clarence Williams' Blue Five\"]  ['6RuQvIr0t0otZHnAxXTGkm']   \n180         0  [\"King Oliver's Creole Jazz Band\"]  ['08Zk65toyJllap1MnzljxZ']   \n\n    release_date  danceability  energy  ...  speechiness  acousticness  \\\n164         1923         0.708   0.361  ...       0.0441         0.994   \n170         1923         0.546   0.189  ...       0.0581         0.996   \n172         1923         0.520   0.153  ...       0.0440         0.995   \n174         1923         0.514   0.193  ...       0.2380         0.996   \n180         1923         0.359   0.357  ...       0.0511         0.994   \n\n     instrumentalness  liveness  valence    tempo  time_signature  \\\n164             0.883     0.103    0.902  105.695               4   \n170             0.908     0.339    0.554   80.318               4   \n172             0.131     0.353    0.319  102.937               4   \n174             0.199     0.248    0.665  180.674               4   \n180             0.819     0.290    0.753  205.053               4   \n\n     artists_upd_v1                    artists_upd_v2  \\\n164              []  [King Oliver's Creole Jazz Band]   \n170              []  [King Oliver's Creole Jazz Band]   \n172              []    [Clarence Williams' Blue Five]   \n174              []    [Clarence Williams' Blue Five]   \n180              []  [King Oliver's Creole Jazz Band]   \n\n                          artists_upd  \n164  [King Oliver's Creole Jazz Band]  \n170  [King Oliver's Creole Jazz Band]  \n172    [Clarence Williams' Blue Five]  \n174    [Clarence Williams' Blue Five]  \n180  [King Oliver's Creole Jazz Band]  \n\n[5 rows x 23 columns]",
      "text/html": "<div>\n<style scoped>\n    .dataframe tbody tr th:only-of-type {\n        vertical-align: middle;\n    }\n\n    .dataframe tbody tr th {\n        vertical-align: top;\n    }\n\n    .dataframe thead th {\n        text-align: right;\n    }\n</style>\n<table border=\"1\" class=\"dataframe\">\n  <thead>\n    <tr style=\"text-align: right;\">\n      <th></th>\n      <th>id</th>\n      <th>name</th>\n      <th>popularity</th>\n      <th>duration_ms</th>\n      <th>explicit</th>\n      <th>artists</th>\n      <th>id_artists</th>\n      <th>release_date</th>\n      <th>danceability</th>\n      <th>energy</th>\n      <th>...</th>\n      <th>speechiness</th>\n      <th>acousticness</th>\n      <th>instrumentalness</th>\n      <th>liveness</th>\n      <th>valence</th>\n      <th>tempo</th>\n      <th>time_signature</th>\n      <th>artists_upd_v1</th>\n      <th>artists_upd_v2</th>\n      <th>artists_upd</th>\n    </tr>\n  </thead>\n  <tbody>\n    <tr>\n      <th>164</th>\n      <td>1xEEYhWxT4WhDQdxfPCT8D</td>\n      <td>Snake Rag</td>\n      <td>20</td>\n      <td>194533</td>\n      <td>0</td>\n      <td>[\"King Oliver's Creole Jazz Band\"]</td>\n      <td>['08Zk65toyJllap1MnzljxZ']</td>\n      <td>1923</td>\n      <td>0.708</td>\n      <td>0.361</td>\n      <td>...</td>\n      <td>0.0441</td>\n      <td>0.994</td>\n      <td>0.883</td>\n      <td>0.103</td>\n      <td>0.902</td>\n      <td>105.695</td>\n      <td>4</td>\n      <td>[]</td>\n      <td>[King Oliver's Creole Jazz Band]</td>\n      <td>[King Oliver's Creole Jazz Band]</td>\n    </tr>\n    <tr>\n      <th>170</th>\n      <td>3rauXVLOOM5BlxWqUcDpkg</td>\n      <td>Chimes Blues</td>\n      <td>14</td>\n      <td>170827</td>\n      <td>0</td>\n      <td>[\"King Oliver's Creole Jazz Band\"]</td>\n      <td>['08Zk65toyJllap1MnzljxZ']</td>\n      <td>1923</td>\n      <td>0.546</td>\n      <td>0.189</td>\n      <td>...</td>\n      <td>0.0581</td>\n      <td>0.996</td>\n      <td>0.908</td>\n      <td>0.339</td>\n      <td>0.554</td>\n      <td>80.318</td>\n      <td>4</td>\n      <td>[]</td>\n      <td>[King Oliver's Creole Jazz Band]</td>\n      <td>[King Oliver's Creole Jazz Band]</td>\n    </tr>\n    <tr>\n      <th>172</th>\n      <td>1UdqHVRFYMZKU2Q7xkLtYc</td>\n      <td>Pickin' On Your Baby</td>\n      <td>11</td>\n      <td>197493</td>\n      <td>0</td>\n      <td>[\"Clarence Williams' Blue Five\"]</td>\n      <td>['6RuQvIr0t0otZHnAxXTGkm']</td>\n      <td>1923</td>\n      <td>0.520</td>\n      <td>0.153</td>\n      <td>...</td>\n      <td>0.0440</td>\n      <td>0.995</td>\n      <td>0.131</td>\n      <td>0.353</td>\n      <td>0.319</td>\n      <td>102.937</td>\n      <td>4</td>\n      <td>[]</td>\n      <td>[Clarence Williams' Blue Five]</td>\n      <td>[Clarence Williams' Blue Five]</td>\n    </tr>\n    <tr>\n      <th>174</th>\n      <td>0Vl2DO5U6FjgBpzCtBN3OA</td>\n      <td>Everybody Loves My Baby</td>\n      <td>10</td>\n      <td>152507</td>\n      <td>0</td>\n      <td>[\"Clarence Williams' Blue Five\"]</td>\n      <td>['6RuQvIr0t0otZHnAxXTGkm']</td>\n      <td>1923</td>\n      <td>0.514</td>\n      <td>0.193</td>\n      <td>...</td>\n      <td>0.2380</td>\n      <td>0.996</td>\n      <td>0.199</td>\n      <td>0.248</td>\n      <td>0.665</td>\n      <td>180.674</td>\n      <td>4</td>\n      <td>[]</td>\n      <td>[Clarence Williams' Blue Five]</td>\n      <td>[Clarence Williams' Blue Five]</td>\n    </tr>\n    <tr>\n      <th>180</th>\n      <td>5SvyP1ZeJX1jA7AOZD08NA</td>\n      <td>Tears</td>\n      <td>10</td>\n      <td>187227</td>\n      <td>0</td>\n      <td>[\"King Oliver's Creole Jazz Band\"]</td>\n      <td>['08Zk65toyJllap1MnzljxZ']</td>\n      <td>1923</td>\n      <td>0.359</td>\n      <td>0.357</td>\n      <td>...</td>\n      <td>0.0511</td>\n      <td>0.994</td>\n      <td>0.819</td>\n      <td>0.290</td>\n      <td>0.753</td>\n      <td>205.053</td>\n      <td>4</td>\n      <td>[]</td>\n      <td>[King Oliver's Creole Jazz Band]</td>\n      <td>[King Oliver's Creole Jazz Band]</td>\n    </tr>\n  </tbody>\n</table>\n<p>5 rows × 23 columns</p>\n</div>"
     },
     "execution_count": 19,
     "metadata": {},
     "output_type": "execute_result"
    }
   ],
   "source": [
    "spotify_df[spotify_df['artists_upd_v1'].apply(lambda x: not x)].head(5)"
   ],
   "metadata": {
    "collapsed": false,
    "pycharm": {
     "name": "#%%\n"
    }
   }
  },
  {
   "cell_type": "code",
   "execution_count": 20,
   "outputs": [],
   "source": [
    "spotify_df['artists_song'] = spotify_df.apply(lambda row: row['artists_upd'][0]+str(row['name']),axis = 1)"
   ],
   "metadata": {
    "collapsed": false,
    "pycharm": {
     "name": "#%%\n"
    }
   }
  },
  {
   "cell_type": "code",
   "execution_count": 21,
   "outputs": [
    {
     "data": {
      "text/plain": "                       id                                 name  popularity  \\\n0  35iwgR4jXetI318WEWsa1Q                                Carve           6   \n1  021ht4sdgPcrDgSk7JTbKY  Capítulo 2.16 - Banquero Anarquista           0   \n2  07A5yehtSnoedViJAZkNnc   Vivo para Quererte - Remasterizado           0   \n3  08FmqUhxtyLTn6pAh6bk45        El Prisionero - Remasterizado           0   \n4  08y9GfoqCWfOGsKdwojr5e                  Lady of the Evening           0   \n\n   duration_ms  explicit              artists                  id_artists  \\\n0       126903         0              ['Uli']  ['45tIt06XoI0Iio4LBEVpls']   \n1        98200         0  ['Fernando Pessoa']  ['14jtPCOoNZwquk5wd9DxrY']   \n2       181640         0  ['Ignacio Corsini']  ['5LiOoJbxVSAMkBS2fUm3X2']   \n3       176907         0  ['Ignacio Corsini']  ['5LiOoJbxVSAMkBS2fUm3X2']   \n4       163080         0      ['Dick Haymes']  ['3BiJGZsyX9sJchTqcSA7Su']   \n\n  release_date  danceability  energy  ...  acousticness  instrumentalness  \\\n0   1922-02-22         0.645  0.4450  ...         0.674            0.7440   \n1   1922-06-01         0.695  0.2630  ...         0.797            0.0000   \n2   1922-03-21         0.434  0.1770  ...         0.994            0.0218   \n3   1922-03-21         0.321  0.0946  ...         0.995            0.9180   \n4         1922         0.402  0.1580  ...         0.989            0.1300   \n\n   liveness  valence    tempo  time_signature     artists_upd_v1  \\\n0     0.151    0.127  104.851               3              [Uli]   \n1     0.148    0.655  102.009               1  [Fernando Pessoa]   \n2     0.212    0.457  130.418               5  [Ignacio Corsini]   \n3     0.104    0.397  169.980               3  [Ignacio Corsini]   \n4     0.311    0.196  103.220               4      [Dick Haymes]   \n\n   artists_upd_v2        artists_upd  \\\n0              []              [Uli]   \n1              []  [Fernando Pessoa]   \n2              []  [Ignacio Corsini]   \n3              []  [Ignacio Corsini]   \n4              []      [Dick Haymes]   \n\n                                        artists_song  \n0                                           UliCarve  \n1  Fernando PessoaCapítulo 2.16 - Banquero Anarqu...  \n2  Ignacio CorsiniVivo para Quererte - Remasterizado  \n3       Ignacio CorsiniEl Prisionero - Remasterizado  \n4                     Dick HaymesLady of the Evening  \n\n[5 rows x 24 columns]",
      "text/html": "<div>\n<style scoped>\n    .dataframe tbody tr th:only-of-type {\n        vertical-align: middle;\n    }\n\n    .dataframe tbody tr th {\n        vertical-align: top;\n    }\n\n    .dataframe thead th {\n        text-align: right;\n    }\n</style>\n<table border=\"1\" class=\"dataframe\">\n  <thead>\n    <tr style=\"text-align: right;\">\n      <th></th>\n      <th>id</th>\n      <th>name</th>\n      <th>popularity</th>\n      <th>duration_ms</th>\n      <th>explicit</th>\n      <th>artists</th>\n      <th>id_artists</th>\n      <th>release_date</th>\n      <th>danceability</th>\n      <th>energy</th>\n      <th>...</th>\n      <th>acousticness</th>\n      <th>instrumentalness</th>\n      <th>liveness</th>\n      <th>valence</th>\n      <th>tempo</th>\n      <th>time_signature</th>\n      <th>artists_upd_v1</th>\n      <th>artists_upd_v2</th>\n      <th>artists_upd</th>\n      <th>artists_song</th>\n    </tr>\n  </thead>\n  <tbody>\n    <tr>\n      <th>0</th>\n      <td>35iwgR4jXetI318WEWsa1Q</td>\n      <td>Carve</td>\n      <td>6</td>\n      <td>126903</td>\n      <td>0</td>\n      <td>['Uli']</td>\n      <td>['45tIt06XoI0Iio4LBEVpls']</td>\n      <td>1922-02-22</td>\n      <td>0.645</td>\n      <td>0.4450</td>\n      <td>...</td>\n      <td>0.674</td>\n      <td>0.7440</td>\n      <td>0.151</td>\n      <td>0.127</td>\n      <td>104.851</td>\n      <td>3</td>\n      <td>[Uli]</td>\n      <td>[]</td>\n      <td>[Uli]</td>\n      <td>UliCarve</td>\n    </tr>\n    <tr>\n      <th>1</th>\n      <td>021ht4sdgPcrDgSk7JTbKY</td>\n      <td>Capítulo 2.16 - Banquero Anarquista</td>\n      <td>0</td>\n      <td>98200</td>\n      <td>0</td>\n      <td>['Fernando Pessoa']</td>\n      <td>['14jtPCOoNZwquk5wd9DxrY']</td>\n      <td>1922-06-01</td>\n      <td>0.695</td>\n      <td>0.2630</td>\n      <td>...</td>\n      <td>0.797</td>\n      <td>0.0000</td>\n      <td>0.148</td>\n      <td>0.655</td>\n      <td>102.009</td>\n      <td>1</td>\n      <td>[Fernando Pessoa]</td>\n      <td>[]</td>\n      <td>[Fernando Pessoa]</td>\n      <td>Fernando PessoaCapítulo 2.16 - Banquero Anarqu...</td>\n    </tr>\n    <tr>\n      <th>2</th>\n      <td>07A5yehtSnoedViJAZkNnc</td>\n      <td>Vivo para Quererte - Remasterizado</td>\n      <td>0</td>\n      <td>181640</td>\n      <td>0</td>\n      <td>['Ignacio Corsini']</td>\n      <td>['5LiOoJbxVSAMkBS2fUm3X2']</td>\n      <td>1922-03-21</td>\n      <td>0.434</td>\n      <td>0.1770</td>\n      <td>...</td>\n      <td>0.994</td>\n      <td>0.0218</td>\n      <td>0.212</td>\n      <td>0.457</td>\n      <td>130.418</td>\n      <td>5</td>\n      <td>[Ignacio Corsini]</td>\n      <td>[]</td>\n      <td>[Ignacio Corsini]</td>\n      <td>Ignacio CorsiniVivo para Quererte - Remasterizado</td>\n    </tr>\n    <tr>\n      <th>3</th>\n      <td>08FmqUhxtyLTn6pAh6bk45</td>\n      <td>El Prisionero - Remasterizado</td>\n      <td>0</td>\n      <td>176907</td>\n      <td>0</td>\n      <td>['Ignacio Corsini']</td>\n      <td>['5LiOoJbxVSAMkBS2fUm3X2']</td>\n      <td>1922-03-21</td>\n      <td>0.321</td>\n      <td>0.0946</td>\n      <td>...</td>\n      <td>0.995</td>\n      <td>0.9180</td>\n      <td>0.104</td>\n      <td>0.397</td>\n      <td>169.980</td>\n      <td>3</td>\n      <td>[Ignacio Corsini]</td>\n      <td>[]</td>\n      <td>[Ignacio Corsini]</td>\n      <td>Ignacio CorsiniEl Prisionero - Remasterizado</td>\n    </tr>\n    <tr>\n      <th>4</th>\n      <td>08y9GfoqCWfOGsKdwojr5e</td>\n      <td>Lady of the Evening</td>\n      <td>0</td>\n      <td>163080</td>\n      <td>0</td>\n      <td>['Dick Haymes']</td>\n      <td>['3BiJGZsyX9sJchTqcSA7Su']</td>\n      <td>1922</td>\n      <td>0.402</td>\n      <td>0.1580</td>\n      <td>...</td>\n      <td>0.989</td>\n      <td>0.1300</td>\n      <td>0.311</td>\n      <td>0.196</td>\n      <td>103.220</td>\n      <td>4</td>\n      <td>[Dick Haymes]</td>\n      <td>[]</td>\n      <td>[Dick Haymes]</td>\n      <td>Dick HaymesLady of the Evening</td>\n    </tr>\n  </tbody>\n</table>\n<p>5 rows × 24 columns</p>\n</div>"
     },
     "execution_count": 21,
     "metadata": {},
     "output_type": "execute_result"
    }
   ],
   "source": [
    "spotify_df.head()"
   ],
   "metadata": {
    "collapsed": false,
    "pycharm": {
     "name": "#%%\n"
    }
   }
  },
  {
   "cell_type": "code",
   "execution_count": 22,
   "outputs": [],
   "source": [
    "spotify_df.drop_duplicates('artists_song',inplace = True)"
   ],
   "metadata": {
    "collapsed": false,
    "pycharm": {
     "name": "#%%\n"
    }
   }
  },
  {
   "cell_type": "code",
   "execution_count": 23,
   "outputs": [
    {
     "data": {
      "text/plain": "                           id       name  popularity  duration_ms  explicit  \\\n86217  5AnCLGg35ziFOloEnXK4uu  Adore You          71       278747         0   \n91884  3jjujdWJ72nww5eGnfs2E7  Adore You          88       207133         0   \n\n                artists                  id_artists release_date  \\\n86217   ['Miley Cyrus']  ['5YGY8feqx7naU7z4HrwZM6']   2013-10-04   \n91884  ['Harry Styles']  ['6KImCVD70vtIoJWnq6nGn3']   2019-12-13   \n\n       danceability  energy  ...  acousticness  instrumentalness  liveness  \\\n86217         0.583   0.655  ...        0.1110          0.000004     0.113   \n91884         0.676   0.771  ...        0.0237          0.000007     0.102   \n\n       valence    tempo  time_signature  artists_upd_v1  artists_upd_v2  \\\n86217    0.201  119.759               4   [Miley Cyrus]              []   \n91884    0.569   99.048               4  [Harry Styles]              []   \n\n          artists_upd           artists_song  \n86217   [Miley Cyrus]   Miley CyrusAdore You  \n91884  [Harry Styles]  Harry StylesAdore You  \n\n[2 rows x 24 columns]",
      "text/html": "<div>\n<style scoped>\n    .dataframe tbody tr th:only-of-type {\n        vertical-align: middle;\n    }\n\n    .dataframe tbody tr th {\n        vertical-align: top;\n    }\n\n    .dataframe thead th {\n        text-align: right;\n    }\n</style>\n<table border=\"1\" class=\"dataframe\">\n  <thead>\n    <tr style=\"text-align: right;\">\n      <th></th>\n      <th>id</th>\n      <th>name</th>\n      <th>popularity</th>\n      <th>duration_ms</th>\n      <th>explicit</th>\n      <th>artists</th>\n      <th>id_artists</th>\n      <th>release_date</th>\n      <th>danceability</th>\n      <th>energy</th>\n      <th>...</th>\n      <th>acousticness</th>\n      <th>instrumentalness</th>\n      <th>liveness</th>\n      <th>valence</th>\n      <th>tempo</th>\n      <th>time_signature</th>\n      <th>artists_upd_v1</th>\n      <th>artists_upd_v2</th>\n      <th>artists_upd</th>\n      <th>artists_song</th>\n    </tr>\n  </thead>\n  <tbody>\n    <tr>\n      <th>86217</th>\n      <td>5AnCLGg35ziFOloEnXK4uu</td>\n      <td>Adore You</td>\n      <td>71</td>\n      <td>278747</td>\n      <td>0</td>\n      <td>['Miley Cyrus']</td>\n      <td>['5YGY8feqx7naU7z4HrwZM6']</td>\n      <td>2013-10-04</td>\n      <td>0.583</td>\n      <td>0.655</td>\n      <td>...</td>\n      <td>0.1110</td>\n      <td>0.000004</td>\n      <td>0.113</td>\n      <td>0.201</td>\n      <td>119.759</td>\n      <td>4</td>\n      <td>[Miley Cyrus]</td>\n      <td>[]</td>\n      <td>[Miley Cyrus]</td>\n      <td>Miley CyrusAdore You</td>\n    </tr>\n    <tr>\n      <th>91884</th>\n      <td>3jjujdWJ72nww5eGnfs2E7</td>\n      <td>Adore You</td>\n      <td>88</td>\n      <td>207133</td>\n      <td>0</td>\n      <td>['Harry Styles']</td>\n      <td>['6KImCVD70vtIoJWnq6nGn3']</td>\n      <td>2019-12-13</td>\n      <td>0.676</td>\n      <td>0.771</td>\n      <td>...</td>\n      <td>0.0237</td>\n      <td>0.000007</td>\n      <td>0.102</td>\n      <td>0.569</td>\n      <td>99.048</td>\n      <td>4</td>\n      <td>[Harry Styles]</td>\n      <td>[]</td>\n      <td>[Harry Styles]</td>\n      <td>Harry StylesAdore You</td>\n    </tr>\n  </tbody>\n</table>\n<p>2 rows × 24 columns</p>\n</div>"
     },
     "execution_count": 23,
     "metadata": {},
     "output_type": "execute_result"
    }
   ],
   "source": [
    "spotify_df[spotify_df['name']=='Adore You']"
   ],
   "metadata": {
    "collapsed": false,
    "pycharm": {
     "name": "#%%\n"
    }
   }
  },
  {
   "cell_type": "code",
   "execution_count": 24,
   "outputs": [],
   "source": [
    "artists_exploded = spotify_df[['artists_upd','id']].explode('artists_upd')"
   ],
   "metadata": {
    "collapsed": false,
    "pycharm": {
     "name": "#%%\n"
    }
   }
  },
  {
   "cell_type": "code",
   "execution_count": 25,
   "outputs": [
    {
     "data": {
      "text/plain": "                        artists_upd                      id\n0                             [Uli]  35iwgR4jXetI318WEWsa1Q\n1                 [Fernando Pessoa]  021ht4sdgPcrDgSk7JTbKY\n2                 [Ignacio Corsini]  07A5yehtSnoedViJAZkNnc\n3                 [Ignacio Corsini]  08FmqUhxtyLTn6pAh6bk45\n4                     [Dick Haymes]  08y9GfoqCWfOGsKdwojr5e\n...                             ...                     ...\n586666                [Emilie Chin]  1ZwZsVZUiyFwIHMNpI3ERt\n586667                    [阿YueYue]  5rgu12WBIHQtvej2MdHSH0\n586668                 [ROLE MODEL]  0NuWgxEp51CutD2pJoF4OM\n586669                    [FINNEAS]  27Y1N4Q4U3EfDU5Ubw8ws2\n586670  [Gentle Bones, Clara Benin]  45XJsGpFTyzbzeWK8VzR8S\n\n[523475 rows x 2 columns]",
      "text/html": "<div>\n<style scoped>\n    .dataframe tbody tr th:only-of-type {\n        vertical-align: middle;\n    }\n\n    .dataframe tbody tr th {\n        vertical-align: top;\n    }\n\n    .dataframe thead th {\n        text-align: right;\n    }\n</style>\n<table border=\"1\" class=\"dataframe\">\n  <thead>\n    <tr style=\"text-align: right;\">\n      <th></th>\n      <th>artists_upd</th>\n      <th>id</th>\n    </tr>\n  </thead>\n  <tbody>\n    <tr>\n      <th>0</th>\n      <td>[Uli]</td>\n      <td>35iwgR4jXetI318WEWsa1Q</td>\n    </tr>\n    <tr>\n      <th>1</th>\n      <td>[Fernando Pessoa]</td>\n      <td>021ht4sdgPcrDgSk7JTbKY</td>\n    </tr>\n    <tr>\n      <th>2</th>\n      <td>[Ignacio Corsini]</td>\n      <td>07A5yehtSnoedViJAZkNnc</td>\n    </tr>\n    <tr>\n      <th>3</th>\n      <td>[Ignacio Corsini]</td>\n      <td>08FmqUhxtyLTn6pAh6bk45</td>\n    </tr>\n    <tr>\n      <th>4</th>\n      <td>[Dick Haymes]</td>\n      <td>08y9GfoqCWfOGsKdwojr5e</td>\n    </tr>\n    <tr>\n      <th>...</th>\n      <td>...</td>\n      <td>...</td>\n    </tr>\n    <tr>\n      <th>586666</th>\n      <td>[Emilie Chin]</td>\n      <td>1ZwZsVZUiyFwIHMNpI3ERt</td>\n    </tr>\n    <tr>\n      <th>586667</th>\n      <td>[阿YueYue]</td>\n      <td>5rgu12WBIHQtvej2MdHSH0</td>\n    </tr>\n    <tr>\n      <th>586668</th>\n      <td>[ROLE MODEL]</td>\n      <td>0NuWgxEp51CutD2pJoF4OM</td>\n    </tr>\n    <tr>\n      <th>586669</th>\n      <td>[FINNEAS]</td>\n      <td>27Y1N4Q4U3EfDU5Ubw8ws2</td>\n    </tr>\n    <tr>\n      <th>586670</th>\n      <td>[Gentle Bones, Clara Benin]</td>\n      <td>45XJsGpFTyzbzeWK8VzR8S</td>\n    </tr>\n  </tbody>\n</table>\n<p>523475 rows × 2 columns</p>\n</div>"
     },
     "execution_count": 25,
     "metadata": {},
     "output_type": "execute_result"
    }
   ],
   "source": [
    "spotify_df[['artists_upd','id']]"
   ],
   "metadata": {
    "collapsed": false,
    "pycharm": {
     "name": "#%%\n"
    }
   }
  },
  {
   "cell_type": "code",
   "execution_count": 26,
   "outputs": [
    {
     "data": {
      "text/plain": "            artists_upd                      id\n0                   Uli  35iwgR4jXetI318WEWsa1Q\n1       Fernando Pessoa  021ht4sdgPcrDgSk7JTbKY\n2       Ignacio Corsini  07A5yehtSnoedViJAZkNnc\n3       Ignacio Corsini  08FmqUhxtyLTn6pAh6bk45\n4           Dick Haymes  08y9GfoqCWfOGsKdwojr5e\n...                 ...                     ...\n586667          阿YueYue  5rgu12WBIHQtvej2MdHSH0\n586668       ROLE MODEL  0NuWgxEp51CutD2pJoF4OM\n586669          FINNEAS  27Y1N4Q4U3EfDU5Ubw8ws2\n586670     Gentle Bones  45XJsGpFTyzbzeWK8VzR8S\n586670      Clara Benin  45XJsGpFTyzbzeWK8VzR8S\n\n[673605 rows x 2 columns]",
      "text/html": "<div>\n<style scoped>\n    .dataframe tbody tr th:only-of-type {\n        vertical-align: middle;\n    }\n\n    .dataframe tbody tr th {\n        vertical-align: top;\n    }\n\n    .dataframe thead th {\n        text-align: right;\n    }\n</style>\n<table border=\"1\" class=\"dataframe\">\n  <thead>\n    <tr style=\"text-align: right;\">\n      <th></th>\n      <th>artists_upd</th>\n      <th>id</th>\n    </tr>\n  </thead>\n  <tbody>\n    <tr>\n      <th>0</th>\n      <td>Uli</td>\n      <td>35iwgR4jXetI318WEWsa1Q</td>\n    </tr>\n    <tr>\n      <th>1</th>\n      <td>Fernando Pessoa</td>\n      <td>021ht4sdgPcrDgSk7JTbKY</td>\n    </tr>\n    <tr>\n      <th>2</th>\n      <td>Ignacio Corsini</td>\n      <td>07A5yehtSnoedViJAZkNnc</td>\n    </tr>\n    <tr>\n      <th>3</th>\n      <td>Ignacio Corsini</td>\n      <td>08FmqUhxtyLTn6pAh6bk45</td>\n    </tr>\n    <tr>\n      <th>4</th>\n      <td>Dick Haymes</td>\n      <td>08y9GfoqCWfOGsKdwojr5e</td>\n    </tr>\n    <tr>\n      <th>...</th>\n      <td>...</td>\n      <td>...</td>\n    </tr>\n    <tr>\n      <th>586667</th>\n      <td>阿YueYue</td>\n      <td>5rgu12WBIHQtvej2MdHSH0</td>\n    </tr>\n    <tr>\n      <th>586668</th>\n      <td>ROLE MODEL</td>\n      <td>0NuWgxEp51CutD2pJoF4OM</td>\n    </tr>\n    <tr>\n      <th>586669</th>\n      <td>FINNEAS</td>\n      <td>27Y1N4Q4U3EfDU5Ubw8ws2</td>\n    </tr>\n    <tr>\n      <th>586670</th>\n      <td>Gentle Bones</td>\n      <td>45XJsGpFTyzbzeWK8VzR8S</td>\n    </tr>\n    <tr>\n      <th>586670</th>\n      <td>Clara Benin</td>\n      <td>45XJsGpFTyzbzeWK8VzR8S</td>\n    </tr>\n  </tbody>\n</table>\n<p>673605 rows × 2 columns</p>\n</div>"
     },
     "execution_count": 26,
     "metadata": {},
     "output_type": "execute_result"
    }
   ],
   "source": [
    "artists_exploded"
   ],
   "metadata": {
    "collapsed": false,
    "pycharm": {
     "name": "#%%\n"
    }
   }
  },
  {
   "cell_type": "code",
   "execution_count": 27,
   "outputs": [],
   "source": [
    "artists_exploded_enriched = artists_exploded.merge(data_w_genre, how = 'left', left_on = 'artists_upd',right_on = 'name')\n",
    "artists_exploded_enriched_nonnull = artists_exploded_enriched[~artists_exploded_enriched.genres_upd.isnull()]"
   ],
   "metadata": {
    "collapsed": false,
    "pycharm": {
     "name": "#%%\n"
    }
   }
  },
  {
   "cell_type": "code",
   "execution_count": 28,
   "outputs": [
    {
     "data": {
      "text/plain": "            artists_upd                    id_x                    id_y  \\\n0                   Uli  35iwgR4jXetI318WEWsa1Q  45tIt06XoI0Iio4LBEVpls   \n1                   Uli  35iwgR4jXetI318WEWsa1Q  2rgWCHFdRPECZBp9s9gU93   \n2       Fernando Pessoa  021ht4sdgPcrDgSk7JTbKY  14jtPCOoNZwquk5wd9DxrY   \n3       Fernando Pessoa  021ht4sdgPcrDgSk7JTbKY  13RMReWFUS7foJYInOfD6E   \n4       Ignacio Corsini  07A5yehtSnoedViJAZkNnc  5LiOoJbxVSAMkBS2fUm3X2   \n...                 ...                     ...                     ...   \n762761          阿YueYue  5rgu12WBIHQtvej2MdHSH0  1QLBXKM5GCpyQQSVMNZqrZ   \n762762       ROLE MODEL  0NuWgxEp51CutD2pJoF4OM  1dy5WNgIKQU6ezkpZs4y8z   \n762763          FINNEAS  27Y1N4Q4U3EfDU5Ubw8ws2  37M5pPGs6V1fchFJSgCguX   \n762764     Gentle Bones  45XJsGpFTyzbzeWK8VzR8S  4jGPdu95icCKVF31CcFKbS   \n762765      Clara Benin  45XJsGpFTyzbzeWK8VzR8S  5ebPSE9YI5aLeZ1Z2gkqjn   \n\n        followers                                             genres  \\\n0            91.0                                                 []   \n1         28721.0                                                 []   \n2             3.0                                                 []   \n3           527.0                                                 []   \n4          3528.0                         ['tango', 'vintage tango']   \n...           ...                                                ...   \n762761      896.0                              ['chinese viral pop']   \n762762   245944.0  ['alt z', 'alternative r&b', 'bedroom pop', 'i...   \n762763  1168213.0  ['alt z', 'electropop', 'indie pop', 'la indie...   \n762764    45309.0  ['chill r&b', 'indie cafe pop', 'singaporean p...   \n762765    93797.0  ['opm', 'pinoy indie', 'pinoy singer-songwriter']   \n\n                   name  popularity  \\\n0                   Uli         4.0   \n1                   Uli        18.0   \n2       Fernando Pessoa         0.0   \n3       Fernando Pessoa         8.0   \n4       Ignacio Corsini        23.0   \n...                 ...         ...   \n762761          阿YueYue        38.0   \n762762       ROLE MODEL        67.0   \n762763          FINNEAS        77.0   \n762764     Gentle Bones        58.0   \n762765      Clara Benin        53.0   \n\n                                               genres_upd  \n0                                                      []  \n1                                                      []  \n2                                                      []  \n3                                                      []  \n4                                  [tango, vintage_tango]  \n...                                                   ...  \n762761                                [chinese_viral_pop]  \n762762  [alt_z, alternative_r&b, bedroom_pop, indie_ca...  \n762763  [alt_z, electropop, indie_pop, la_indie, pop, ...  \n762764       [chill_r&b, indie_cafe_pop, singaporean_pop]  \n762765        [opm, pinoy_indie, pinoy_singer-songwriter]  \n\n[762766 rows x 8 columns]",
      "text/html": "<div>\n<style scoped>\n    .dataframe tbody tr th:only-of-type {\n        vertical-align: middle;\n    }\n\n    .dataframe tbody tr th {\n        vertical-align: top;\n    }\n\n    .dataframe thead th {\n        text-align: right;\n    }\n</style>\n<table border=\"1\" class=\"dataframe\">\n  <thead>\n    <tr style=\"text-align: right;\">\n      <th></th>\n      <th>artists_upd</th>\n      <th>id_x</th>\n      <th>id_y</th>\n      <th>followers</th>\n      <th>genres</th>\n      <th>name</th>\n      <th>popularity</th>\n      <th>genres_upd</th>\n    </tr>\n  </thead>\n  <tbody>\n    <tr>\n      <th>0</th>\n      <td>Uli</td>\n      <td>35iwgR4jXetI318WEWsa1Q</td>\n      <td>45tIt06XoI0Iio4LBEVpls</td>\n      <td>91.0</td>\n      <td>[]</td>\n      <td>Uli</td>\n      <td>4.0</td>\n      <td>[]</td>\n    </tr>\n    <tr>\n      <th>1</th>\n      <td>Uli</td>\n      <td>35iwgR4jXetI318WEWsa1Q</td>\n      <td>2rgWCHFdRPECZBp9s9gU93</td>\n      <td>28721.0</td>\n      <td>[]</td>\n      <td>Uli</td>\n      <td>18.0</td>\n      <td>[]</td>\n    </tr>\n    <tr>\n      <th>2</th>\n      <td>Fernando Pessoa</td>\n      <td>021ht4sdgPcrDgSk7JTbKY</td>\n      <td>14jtPCOoNZwquk5wd9DxrY</td>\n      <td>3.0</td>\n      <td>[]</td>\n      <td>Fernando Pessoa</td>\n      <td>0.0</td>\n      <td>[]</td>\n    </tr>\n    <tr>\n      <th>3</th>\n      <td>Fernando Pessoa</td>\n      <td>021ht4sdgPcrDgSk7JTbKY</td>\n      <td>13RMReWFUS7foJYInOfD6E</td>\n      <td>527.0</td>\n      <td>[]</td>\n      <td>Fernando Pessoa</td>\n      <td>8.0</td>\n      <td>[]</td>\n    </tr>\n    <tr>\n      <th>4</th>\n      <td>Ignacio Corsini</td>\n      <td>07A5yehtSnoedViJAZkNnc</td>\n      <td>5LiOoJbxVSAMkBS2fUm3X2</td>\n      <td>3528.0</td>\n      <td>['tango', 'vintage tango']</td>\n      <td>Ignacio Corsini</td>\n      <td>23.0</td>\n      <td>[tango, vintage_tango]</td>\n    </tr>\n    <tr>\n      <th>...</th>\n      <td>...</td>\n      <td>...</td>\n      <td>...</td>\n      <td>...</td>\n      <td>...</td>\n      <td>...</td>\n      <td>...</td>\n      <td>...</td>\n    </tr>\n    <tr>\n      <th>762761</th>\n      <td>阿YueYue</td>\n      <td>5rgu12WBIHQtvej2MdHSH0</td>\n      <td>1QLBXKM5GCpyQQSVMNZqrZ</td>\n      <td>896.0</td>\n      <td>['chinese viral pop']</td>\n      <td>阿YueYue</td>\n      <td>38.0</td>\n      <td>[chinese_viral_pop]</td>\n    </tr>\n    <tr>\n      <th>762762</th>\n      <td>ROLE MODEL</td>\n      <td>0NuWgxEp51CutD2pJoF4OM</td>\n      <td>1dy5WNgIKQU6ezkpZs4y8z</td>\n      <td>245944.0</td>\n      <td>['alt z', 'alternative r&amp;b', 'bedroom pop', 'i...</td>\n      <td>ROLE MODEL</td>\n      <td>67.0</td>\n      <td>[alt_z, alternative_r&amp;b, bedroom_pop, indie_ca...</td>\n    </tr>\n    <tr>\n      <th>762763</th>\n      <td>FINNEAS</td>\n      <td>27Y1N4Q4U3EfDU5Ubw8ws2</td>\n      <td>37M5pPGs6V1fchFJSgCguX</td>\n      <td>1168213.0</td>\n      <td>['alt z', 'electropop', 'indie pop', 'la indie...</td>\n      <td>FINNEAS</td>\n      <td>77.0</td>\n      <td>[alt_z, electropop, indie_pop, la_indie, pop, ...</td>\n    </tr>\n    <tr>\n      <th>762764</th>\n      <td>Gentle Bones</td>\n      <td>45XJsGpFTyzbzeWK8VzR8S</td>\n      <td>4jGPdu95icCKVF31CcFKbS</td>\n      <td>45309.0</td>\n      <td>['chill r&amp;b', 'indie cafe pop', 'singaporean p...</td>\n      <td>Gentle Bones</td>\n      <td>58.0</td>\n      <td>[chill_r&amp;b, indie_cafe_pop, singaporean_pop]</td>\n    </tr>\n    <tr>\n      <th>762765</th>\n      <td>Clara Benin</td>\n      <td>45XJsGpFTyzbzeWK8VzR8S</td>\n      <td>5ebPSE9YI5aLeZ1Z2gkqjn</td>\n      <td>93797.0</td>\n      <td>['opm', 'pinoy indie', 'pinoy singer-songwriter']</td>\n      <td>Clara Benin</td>\n      <td>53.0</td>\n      <td>[opm, pinoy_indie, pinoy_singer-songwriter]</td>\n    </tr>\n  </tbody>\n</table>\n<p>762766 rows × 8 columns</p>\n</div>"
     },
     "execution_count": 28,
     "metadata": {},
     "output_type": "execute_result"
    }
   ],
   "source": [
    "artists_exploded_enriched"
   ],
   "metadata": {
    "collapsed": false,
    "pycharm": {
     "name": "#%%\n"
    }
   }
  },
  {
   "cell_type": "code",
   "execution_count": 29,
   "outputs": [
    {
     "data": {
      "text/plain": "            artists_upd                    id_x                    id_y  \\\n6153    Robert Schumann  6KuQTIu1KoTTkLXKrwlLPV  2UqjDAXnDxejEyE0CzfUrZ   \n6154  Vladimir Horowitz  6KuQTIu1KoTTkLXKrwlLPV  4Ws5hSoABAwvGJ4LhHwHgq   \n\n      followers                                             genres  \\\n6153   423826.0  ['classical', 'early romantic era', 'german ro...   \n6154    92365.0  ['classical', 'classical performance', 'classi...   \n\n                   name  popularity  \\\n6153    Robert Schumann        64.0   \n6154  Vladimir Horowitz        54.0   \n\n                                             genres_upd  \n6153  [classical, early_romantic_era, german_romanti...  \n6154  [classical, classical_performance, classical_p...  ",
      "text/html": "<div>\n<style scoped>\n    .dataframe tbody tr th:only-of-type {\n        vertical-align: middle;\n    }\n\n    .dataframe tbody tr th {\n        vertical-align: top;\n    }\n\n    .dataframe thead th {\n        text-align: right;\n    }\n</style>\n<table border=\"1\" class=\"dataframe\">\n  <thead>\n    <tr style=\"text-align: right;\">\n      <th></th>\n      <th>artists_upd</th>\n      <th>id_x</th>\n      <th>id_y</th>\n      <th>followers</th>\n      <th>genres</th>\n      <th>name</th>\n      <th>popularity</th>\n      <th>genres_upd</th>\n    </tr>\n  </thead>\n  <tbody>\n    <tr>\n      <th>6153</th>\n      <td>Robert Schumann</td>\n      <td>6KuQTIu1KoTTkLXKrwlLPV</td>\n      <td>2UqjDAXnDxejEyE0CzfUrZ</td>\n      <td>423826.0</td>\n      <td>['classical', 'early romantic era', 'german ro...</td>\n      <td>Robert Schumann</td>\n      <td>64.0</td>\n      <td>[classical, early_romantic_era, german_romanti...</td>\n    </tr>\n    <tr>\n      <th>6154</th>\n      <td>Vladimir Horowitz</td>\n      <td>6KuQTIu1KoTTkLXKrwlLPV</td>\n      <td>4Ws5hSoABAwvGJ4LhHwHgq</td>\n      <td>92365.0</td>\n      <td>['classical', 'classical performance', 'classi...</td>\n      <td>Vladimir Horowitz</td>\n      <td>54.0</td>\n      <td>[classical, classical_performance, classical_p...</td>\n    </tr>\n  </tbody>\n</table>\n</div>"
     },
     "execution_count": 29,
     "metadata": {},
     "output_type": "execute_result"
    }
   ],
   "source": [
    "artists_exploded_enriched_nonnull[artists_exploded_enriched_nonnull['id_x'] =='6KuQTIu1KoTTkLXKrwlLPV']"
   ],
   "metadata": {
    "collapsed": false,
    "pycharm": {
     "name": "#%%\n"
    }
   }
  },
  {
   "cell_type": "code",
   "execution_count": 30,
   "outputs": [],
   "source": [
    "artists_genres_consolidated = artists_exploded_enriched_nonnull.groupby('id_x')['genres_upd'].apply(list).reset_index()"
   ],
   "metadata": {
    "collapsed": false,
    "pycharm": {
     "name": "#%%\n"
    }
   }
  },
  {
   "cell_type": "code",
   "execution_count": 31,
   "outputs": [],
   "source": [
    "artists_genres_consolidated['consolidates_genre_lists'] = artists_genres_consolidated['genres_upd'].apply(lambda x: list(set(list(itertools.chain.from_iterable(x)))))"
   ],
   "metadata": {
    "collapsed": false,
    "pycharm": {
     "name": "#%%\n"
    }
   }
  },
  {
   "cell_type": "code",
   "execution_count": 32,
   "outputs": [
    {
     "data": {
      "text/plain": "                     id_x                                         genres_upd  \\\n0  0004Uy71ku11n3LMpuyf59                                    [[polish_rock]]   \n1  000CSYu4rvd8cQ7JilfxhZ              [[country_quebecois, rock_quebecois]]   \n2  000DsoWJKHdaUmhgcnpr8j                                      [[barnmusik]]   \n3  000G1xMMuwxNHmwVsBdtj1  [[candy_pop, new_wave, new_wave_pop, permanent...   \n4  000KblXP5csWFFFsD6smOy  [[chamame, folclore_salteno, folklore_argentino]]   \n\n                            consolidates_genre_lists  \n0                                      [polish_rock]  \n1                [country_quebecois, rock_quebecois]  \n2                                        [barnmusik]  \n3  [permanent_wave, new_wave_pop, new_wave, power...  \n4    [folclore_salteno, folklore_argentino, chamame]  ",
      "text/html": "<div>\n<style scoped>\n    .dataframe tbody tr th:only-of-type {\n        vertical-align: middle;\n    }\n\n    .dataframe tbody tr th {\n        vertical-align: top;\n    }\n\n    .dataframe thead th {\n        text-align: right;\n    }\n</style>\n<table border=\"1\" class=\"dataframe\">\n  <thead>\n    <tr style=\"text-align: right;\">\n      <th></th>\n      <th>id_x</th>\n      <th>genres_upd</th>\n      <th>consolidates_genre_lists</th>\n    </tr>\n  </thead>\n  <tbody>\n    <tr>\n      <th>0</th>\n      <td>0004Uy71ku11n3LMpuyf59</td>\n      <td>[[polish_rock]]</td>\n      <td>[polish_rock]</td>\n    </tr>\n    <tr>\n      <th>1</th>\n      <td>000CSYu4rvd8cQ7JilfxhZ</td>\n      <td>[[country_quebecois, rock_quebecois]]</td>\n      <td>[country_quebecois, rock_quebecois]</td>\n    </tr>\n    <tr>\n      <th>2</th>\n      <td>000DsoWJKHdaUmhgcnpr8j</td>\n      <td>[[barnmusik]]</td>\n      <td>[barnmusik]</td>\n    </tr>\n    <tr>\n      <th>3</th>\n      <td>000G1xMMuwxNHmwVsBdtj1</td>\n      <td>[[candy_pop, new_wave, new_wave_pop, permanent...</td>\n      <td>[permanent_wave, new_wave_pop, new_wave, power...</td>\n    </tr>\n    <tr>\n      <th>4</th>\n      <td>000KblXP5csWFFFsD6smOy</td>\n      <td>[[chamame, folclore_salteno, folklore_argentino]]</td>\n      <td>[folclore_salteno, folklore_argentino, chamame]</td>\n    </tr>\n  </tbody>\n</table>\n</div>"
     },
     "execution_count": 32,
     "metadata": {},
     "output_type": "execute_result"
    }
   ],
   "source": [
    "artists_genres_consolidated.head()"
   ],
   "metadata": {
    "collapsed": false,
    "pycharm": {
     "name": "#%%\n"
    }
   }
  },
  {
   "cell_type": "code",
   "execution_count": 33,
   "outputs": [],
   "source": [
    "artists_genres_consolidated = artists_genres_consolidated.rename(columns={'id_x':'id'})"
   ],
   "metadata": {
    "collapsed": false,
    "pycharm": {
     "name": "#%%\n"
    }
   }
  },
  {
   "cell_type": "code",
   "execution_count": 34,
   "outputs": [
    {
     "data": {
      "text/plain": "                       id                                         genres_upd  \\\n0  0004Uy71ku11n3LMpuyf59                                    [[polish_rock]]   \n1  000CSYu4rvd8cQ7JilfxhZ              [[country_quebecois, rock_quebecois]]   \n2  000DsoWJKHdaUmhgcnpr8j                                      [[barnmusik]]   \n3  000G1xMMuwxNHmwVsBdtj1  [[candy_pop, new_wave, new_wave_pop, permanent...   \n4  000KblXP5csWFFFsD6smOy  [[chamame, folclore_salteno, folklore_argentino]]   \n\n                            consolidates_genre_lists  \n0                                      [polish_rock]  \n1                [country_quebecois, rock_quebecois]  \n2                                        [barnmusik]  \n3  [permanent_wave, new_wave_pop, new_wave, power...  \n4    [folclore_salteno, folklore_argentino, chamame]  ",
      "text/html": "<div>\n<style scoped>\n    .dataframe tbody tr th:only-of-type {\n        vertical-align: middle;\n    }\n\n    .dataframe tbody tr th {\n        vertical-align: top;\n    }\n\n    .dataframe thead th {\n        text-align: right;\n    }\n</style>\n<table border=\"1\" class=\"dataframe\">\n  <thead>\n    <tr style=\"text-align: right;\">\n      <th></th>\n      <th>id</th>\n      <th>genres_upd</th>\n      <th>consolidates_genre_lists</th>\n    </tr>\n  </thead>\n  <tbody>\n    <tr>\n      <th>0</th>\n      <td>0004Uy71ku11n3LMpuyf59</td>\n      <td>[[polish_rock]]</td>\n      <td>[polish_rock]</td>\n    </tr>\n    <tr>\n      <th>1</th>\n      <td>000CSYu4rvd8cQ7JilfxhZ</td>\n      <td>[[country_quebecois, rock_quebecois]]</td>\n      <td>[country_quebecois, rock_quebecois]</td>\n    </tr>\n    <tr>\n      <th>2</th>\n      <td>000DsoWJKHdaUmhgcnpr8j</td>\n      <td>[[barnmusik]]</td>\n      <td>[barnmusik]</td>\n    </tr>\n    <tr>\n      <th>3</th>\n      <td>000G1xMMuwxNHmwVsBdtj1</td>\n      <td>[[candy_pop, new_wave, new_wave_pop, permanent...</td>\n      <td>[permanent_wave, new_wave_pop, new_wave, power...</td>\n    </tr>\n    <tr>\n      <th>4</th>\n      <td>000KblXP5csWFFFsD6smOy</td>\n      <td>[[chamame, folclore_salteno, folklore_argentino]]</td>\n      <td>[folclore_salteno, folklore_argentino, chamame]</td>\n    </tr>\n  </tbody>\n</table>\n</div>"
     },
     "execution_count": 34,
     "metadata": {},
     "output_type": "execute_result"
    }
   ],
   "source": [
    "artists_genres_consolidated.head()"
   ],
   "metadata": {
    "collapsed": false,
    "pycharm": {
     "name": "#%%\n"
    }
   }
  },
  {
   "cell_type": "code",
   "execution_count": 35,
   "outputs": [],
   "source": [
    "spotify_df = spotify_df.merge(artists_genres_consolidated[['id','consolidates_genre_lists']], on = 'id',how = 'left')"
   ],
   "metadata": {
    "collapsed": false,
    "pycharm": {
     "name": "#%%\n"
    }
   }
  },
  {
   "cell_type": "code",
   "execution_count": 36,
   "outputs": [
    {
     "data": {
      "text/plain": "                            id                       name  popularity  \\\n523470  1ZwZsVZUiyFwIHMNpI3ERt                 Skyscraper           4   \n523471  5rgu12WBIHQtvej2MdHSH0                        云与海          50   \n523472  0NuWgxEp51CutD2pJoF4OM                      blind          72   \n523473  27Y1N4Q4U3EfDU5Ubw8ws2  What They'll Say About Us          70   \n523474  45XJsGpFTyzbzeWK8VzR8S            A Day At A Time          58   \n\n        duration_ms  explicit                          artists  \\\n523470       106002         0                  ['Emilie Chin']   \n523471       258267         0                      ['阿YueYue']   \n523472       153293         0                   ['ROLE MODEL']   \n523473       187601         0                      ['FINNEAS']   \n523474       142003         0  ['Gentle Bones', 'Clara Benin']   \n\n                                               id_artists release_date  \\\n523470                         ['4USdOnfLczwUglA3TrdHs2']   2020-02-08   \n523471                         ['1QLBXKM5GCpyQQSVMNZqrZ']   2020-09-26   \n523472                         ['1dy5WNgIKQU6ezkpZs4y8z']   2020-10-21   \n523473                         ['37M5pPGs6V1fchFJSgCguX']   2020-09-02   \n523474  ['4jGPdu95icCKVF31CcFKbS', '5ebPSE9YI5aLeZ1Z2g...   2021-03-05   \n\n        danceability  energy  ...  instrumentalness  liveness  valence  \\\n523470         0.626   0.530  ...          0.856000    0.1040   0.2150   \n523471         0.560   0.518  ...          0.000000    0.0648   0.2110   \n523472         0.765   0.663  ...          0.000297    0.0924   0.6860   \n523473         0.535   0.314  ...          0.000150    0.0874   0.0663   \n523474         0.696   0.615  ...          0.000003    0.3050   0.4380   \n\n          tempo  time_signature               artists_upd_v1  artists_upd_v2  \\\n523470  120.113               4                [Emilie Chin]              []   \n523471  131.896               4                    [阿YueYue]              []   \n523472  150.091               4                 [ROLE MODEL]              []   \n523473  145.095               4                    [FINNEAS]              []   \n523474   90.029               4  [Gentle Bones, Clara Benin]              []   \n\n                        artists_upd                      artists_song  \\\n523470                [Emilie Chin]             Emilie ChinSkyscraper   \n523471                    [阿YueYue]                        阿YueYue云与海   \n523472                 [ROLE MODEL]                   ROLE MODELblind   \n523473                    [FINNEAS]  FINNEASWhat They'll Say About Us   \n523474  [Gentle Bones, Clara Benin]       Gentle BonesA Day At A Time   \n\n                                 consolidates_genre_lists  \n523470                                                NaN  \n523471                                [chinese_viral_pop]  \n523472  [bedroom_pop, alt_z, indie_cafe_pop, pop, indi...  \n523473  [alt_z, post-teen_pop, pop, la_indie, electrop...  \n523474  [opm, indie_cafe_pop, singaporean_pop, chill_r...  \n\n[5 rows x 25 columns]",
      "text/html": "<div>\n<style scoped>\n    .dataframe tbody tr th:only-of-type {\n        vertical-align: middle;\n    }\n\n    .dataframe tbody tr th {\n        vertical-align: top;\n    }\n\n    .dataframe thead th {\n        text-align: right;\n    }\n</style>\n<table border=\"1\" class=\"dataframe\">\n  <thead>\n    <tr style=\"text-align: right;\">\n      <th></th>\n      <th>id</th>\n      <th>name</th>\n      <th>popularity</th>\n      <th>duration_ms</th>\n      <th>explicit</th>\n      <th>artists</th>\n      <th>id_artists</th>\n      <th>release_date</th>\n      <th>danceability</th>\n      <th>energy</th>\n      <th>...</th>\n      <th>instrumentalness</th>\n      <th>liveness</th>\n      <th>valence</th>\n      <th>tempo</th>\n      <th>time_signature</th>\n      <th>artists_upd_v1</th>\n      <th>artists_upd_v2</th>\n      <th>artists_upd</th>\n      <th>artists_song</th>\n      <th>consolidates_genre_lists</th>\n    </tr>\n  </thead>\n  <tbody>\n    <tr>\n      <th>523470</th>\n      <td>1ZwZsVZUiyFwIHMNpI3ERt</td>\n      <td>Skyscraper</td>\n      <td>4</td>\n      <td>106002</td>\n      <td>0</td>\n      <td>['Emilie Chin']</td>\n      <td>['4USdOnfLczwUglA3TrdHs2']</td>\n      <td>2020-02-08</td>\n      <td>0.626</td>\n      <td>0.530</td>\n      <td>...</td>\n      <td>0.856000</td>\n      <td>0.1040</td>\n      <td>0.2150</td>\n      <td>120.113</td>\n      <td>4</td>\n      <td>[Emilie Chin]</td>\n      <td>[]</td>\n      <td>[Emilie Chin]</td>\n      <td>Emilie ChinSkyscraper</td>\n      <td>NaN</td>\n    </tr>\n    <tr>\n      <th>523471</th>\n      <td>5rgu12WBIHQtvej2MdHSH0</td>\n      <td>云与海</td>\n      <td>50</td>\n      <td>258267</td>\n      <td>0</td>\n      <td>['阿YueYue']</td>\n      <td>['1QLBXKM5GCpyQQSVMNZqrZ']</td>\n      <td>2020-09-26</td>\n      <td>0.560</td>\n      <td>0.518</td>\n      <td>...</td>\n      <td>0.000000</td>\n      <td>0.0648</td>\n      <td>0.2110</td>\n      <td>131.896</td>\n      <td>4</td>\n      <td>[阿YueYue]</td>\n      <td>[]</td>\n      <td>[阿YueYue]</td>\n      <td>阿YueYue云与海</td>\n      <td>[chinese_viral_pop]</td>\n    </tr>\n    <tr>\n      <th>523472</th>\n      <td>0NuWgxEp51CutD2pJoF4OM</td>\n      <td>blind</td>\n      <td>72</td>\n      <td>153293</td>\n      <td>0</td>\n      <td>['ROLE MODEL']</td>\n      <td>['1dy5WNgIKQU6ezkpZs4y8z']</td>\n      <td>2020-10-21</td>\n      <td>0.765</td>\n      <td>0.663</td>\n      <td>...</td>\n      <td>0.000297</td>\n      <td>0.0924</td>\n      <td>0.6860</td>\n      <td>150.091</td>\n      <td>4</td>\n      <td>[ROLE MODEL]</td>\n      <td>[]</td>\n      <td>[ROLE MODEL]</td>\n      <td>ROLE MODELblind</td>\n      <td>[bedroom_pop, alt_z, indie_cafe_pop, pop, indi...</td>\n    </tr>\n    <tr>\n      <th>523473</th>\n      <td>27Y1N4Q4U3EfDU5Ubw8ws2</td>\n      <td>What They'll Say About Us</td>\n      <td>70</td>\n      <td>187601</td>\n      <td>0</td>\n      <td>['FINNEAS']</td>\n      <td>['37M5pPGs6V1fchFJSgCguX']</td>\n      <td>2020-09-02</td>\n      <td>0.535</td>\n      <td>0.314</td>\n      <td>...</td>\n      <td>0.000150</td>\n      <td>0.0874</td>\n      <td>0.0663</td>\n      <td>145.095</td>\n      <td>4</td>\n      <td>[FINNEAS]</td>\n      <td>[]</td>\n      <td>[FINNEAS]</td>\n      <td>FINNEASWhat They'll Say About Us</td>\n      <td>[alt_z, post-teen_pop, pop, la_indie, electrop...</td>\n    </tr>\n    <tr>\n      <th>523474</th>\n      <td>45XJsGpFTyzbzeWK8VzR8S</td>\n      <td>A Day At A Time</td>\n      <td>58</td>\n      <td>142003</td>\n      <td>0</td>\n      <td>['Gentle Bones', 'Clara Benin']</td>\n      <td>['4jGPdu95icCKVF31CcFKbS', '5ebPSE9YI5aLeZ1Z2g...</td>\n      <td>2021-03-05</td>\n      <td>0.696</td>\n      <td>0.615</td>\n      <td>...</td>\n      <td>0.000003</td>\n      <td>0.3050</td>\n      <td>0.4380</td>\n      <td>90.029</td>\n      <td>4</td>\n      <td>[Gentle Bones, Clara Benin]</td>\n      <td>[]</td>\n      <td>[Gentle Bones, Clara Benin]</td>\n      <td>Gentle BonesA Day At A Time</td>\n      <td>[opm, indie_cafe_pop, singaporean_pop, chill_r...</td>\n    </tr>\n  </tbody>\n</table>\n<p>5 rows × 25 columns</p>\n</div>"
     },
     "execution_count": 36,
     "metadata": {},
     "output_type": "execute_result"
    }
   ],
   "source": [
    "spotify_df.tail()"
   ],
   "metadata": {
    "collapsed": false,
    "pycharm": {
     "name": "#%%\n"
    }
   }
  },
  {
   "cell_type": "code",
   "execution_count": 37,
   "outputs": [],
   "source": [
    "spotify_df['consolidates_genre_lists'] = spotify_df['consolidates_genre_lists'].apply(lambda x:\"NaN\" if x == [] else x)"
   ],
   "metadata": {
    "collapsed": false,
    "pycharm": {
     "name": "#%%\n"
    }
   }
  },
  {
   "cell_type": "code",
   "execution_count": 38,
   "outputs": [
    {
     "data": {
      "text/plain": "                       id                                 name  popularity  \\\n0  35iwgR4jXetI318WEWsa1Q                                Carve           6   \n1  021ht4sdgPcrDgSk7JTbKY  Capítulo 2.16 - Banquero Anarquista           0   \n2  07A5yehtSnoedViJAZkNnc   Vivo para Quererte - Remasterizado           0   \n3  08FmqUhxtyLTn6pAh6bk45        El Prisionero - Remasterizado           0   \n4  08y9GfoqCWfOGsKdwojr5e                  Lady of the Evening           0   \n\n   duration_ms  explicit              artists                  id_artists  \\\n0       126903         0              ['Uli']  ['45tIt06XoI0Iio4LBEVpls']   \n1        98200         0  ['Fernando Pessoa']  ['14jtPCOoNZwquk5wd9DxrY']   \n2       181640         0  ['Ignacio Corsini']  ['5LiOoJbxVSAMkBS2fUm3X2']   \n3       176907         0  ['Ignacio Corsini']  ['5LiOoJbxVSAMkBS2fUm3X2']   \n4       163080         0      ['Dick Haymes']  ['3BiJGZsyX9sJchTqcSA7Su']   \n\n  release_date  danceability  energy  ...  instrumentalness  liveness  \\\n0   1922-02-22         0.645  0.4450  ...            0.7440     0.151   \n1   1922-06-01         0.695  0.2630  ...            0.0000     0.148   \n2   1922-03-21         0.434  0.1770  ...            0.0218     0.212   \n3   1922-03-21         0.321  0.0946  ...            0.9180     0.104   \n4         1922         0.402  0.1580  ...            0.1300     0.311   \n\n   valence    tempo  time_signature     artists_upd_v1  artists_upd_v2  \\\n0    0.127  104.851               3              [Uli]              []   \n1    0.655  102.009               1  [Fernando Pessoa]              []   \n2    0.457  130.418               5  [Ignacio Corsini]              []   \n3    0.397  169.980               3  [Ignacio Corsini]              []   \n4    0.196  103.220               4      [Dick Haymes]              []   \n\n         artists_upd                                       artists_song  \\\n0              [Uli]                                           UliCarve   \n1  [Fernando Pessoa]  Fernando PessoaCapítulo 2.16 - Banquero Anarqu...   \n2  [Ignacio Corsini]  Ignacio CorsiniVivo para Quererte - Remasterizado   \n3  [Ignacio Corsini]       Ignacio CorsiniEl Prisionero - Remasterizado   \n4      [Dick Haymes]                     Dick HaymesLady of the Evening   \n\n                            consolidates_genre_lists  \n0                                                NaN  \n1                                                NaN  \n2                             [tango, vintage_tango]  \n3                             [tango, vintage_tango]  \n4  [easy_listening, adult_standards, big_band, lo...  \n\n[5 rows x 25 columns]",
      "text/html": "<div>\n<style scoped>\n    .dataframe tbody tr th:only-of-type {\n        vertical-align: middle;\n    }\n\n    .dataframe tbody tr th {\n        vertical-align: top;\n    }\n\n    .dataframe thead th {\n        text-align: right;\n    }\n</style>\n<table border=\"1\" class=\"dataframe\">\n  <thead>\n    <tr style=\"text-align: right;\">\n      <th></th>\n      <th>id</th>\n      <th>name</th>\n      <th>popularity</th>\n      <th>duration_ms</th>\n      <th>explicit</th>\n      <th>artists</th>\n      <th>id_artists</th>\n      <th>release_date</th>\n      <th>danceability</th>\n      <th>energy</th>\n      <th>...</th>\n      <th>instrumentalness</th>\n      <th>liveness</th>\n      <th>valence</th>\n      <th>tempo</th>\n      <th>time_signature</th>\n      <th>artists_upd_v1</th>\n      <th>artists_upd_v2</th>\n      <th>artists_upd</th>\n      <th>artists_song</th>\n      <th>consolidates_genre_lists</th>\n    </tr>\n  </thead>\n  <tbody>\n    <tr>\n      <th>0</th>\n      <td>35iwgR4jXetI318WEWsa1Q</td>\n      <td>Carve</td>\n      <td>6</td>\n      <td>126903</td>\n      <td>0</td>\n      <td>['Uli']</td>\n      <td>['45tIt06XoI0Iio4LBEVpls']</td>\n      <td>1922-02-22</td>\n      <td>0.645</td>\n      <td>0.4450</td>\n      <td>...</td>\n      <td>0.7440</td>\n      <td>0.151</td>\n      <td>0.127</td>\n      <td>104.851</td>\n      <td>3</td>\n      <td>[Uli]</td>\n      <td>[]</td>\n      <td>[Uli]</td>\n      <td>UliCarve</td>\n      <td>NaN</td>\n    </tr>\n    <tr>\n      <th>1</th>\n      <td>021ht4sdgPcrDgSk7JTbKY</td>\n      <td>Capítulo 2.16 - Banquero Anarquista</td>\n      <td>0</td>\n      <td>98200</td>\n      <td>0</td>\n      <td>['Fernando Pessoa']</td>\n      <td>['14jtPCOoNZwquk5wd9DxrY']</td>\n      <td>1922-06-01</td>\n      <td>0.695</td>\n      <td>0.2630</td>\n      <td>...</td>\n      <td>0.0000</td>\n      <td>0.148</td>\n      <td>0.655</td>\n      <td>102.009</td>\n      <td>1</td>\n      <td>[Fernando Pessoa]</td>\n      <td>[]</td>\n      <td>[Fernando Pessoa]</td>\n      <td>Fernando PessoaCapítulo 2.16 - Banquero Anarqu...</td>\n      <td>NaN</td>\n    </tr>\n    <tr>\n      <th>2</th>\n      <td>07A5yehtSnoedViJAZkNnc</td>\n      <td>Vivo para Quererte - Remasterizado</td>\n      <td>0</td>\n      <td>181640</td>\n      <td>0</td>\n      <td>['Ignacio Corsini']</td>\n      <td>['5LiOoJbxVSAMkBS2fUm3X2']</td>\n      <td>1922-03-21</td>\n      <td>0.434</td>\n      <td>0.1770</td>\n      <td>...</td>\n      <td>0.0218</td>\n      <td>0.212</td>\n      <td>0.457</td>\n      <td>130.418</td>\n      <td>5</td>\n      <td>[Ignacio Corsini]</td>\n      <td>[]</td>\n      <td>[Ignacio Corsini]</td>\n      <td>Ignacio CorsiniVivo para Quererte - Remasterizado</td>\n      <td>[tango, vintage_tango]</td>\n    </tr>\n    <tr>\n      <th>3</th>\n      <td>08FmqUhxtyLTn6pAh6bk45</td>\n      <td>El Prisionero - Remasterizado</td>\n      <td>0</td>\n      <td>176907</td>\n      <td>0</td>\n      <td>['Ignacio Corsini']</td>\n      <td>['5LiOoJbxVSAMkBS2fUm3X2']</td>\n      <td>1922-03-21</td>\n      <td>0.321</td>\n      <td>0.0946</td>\n      <td>...</td>\n      <td>0.9180</td>\n      <td>0.104</td>\n      <td>0.397</td>\n      <td>169.980</td>\n      <td>3</td>\n      <td>[Ignacio Corsini]</td>\n      <td>[]</td>\n      <td>[Ignacio Corsini]</td>\n      <td>Ignacio CorsiniEl Prisionero - Remasterizado</td>\n      <td>[tango, vintage_tango]</td>\n    </tr>\n    <tr>\n      <th>4</th>\n      <td>08y9GfoqCWfOGsKdwojr5e</td>\n      <td>Lady of the Evening</td>\n      <td>0</td>\n      <td>163080</td>\n      <td>0</td>\n      <td>['Dick Haymes']</td>\n      <td>['3BiJGZsyX9sJchTqcSA7Su']</td>\n      <td>1922</td>\n      <td>0.402</td>\n      <td>0.1580</td>\n      <td>...</td>\n      <td>0.1300</td>\n      <td>0.311</td>\n      <td>0.196</td>\n      <td>103.220</td>\n      <td>4</td>\n      <td>[Dick Haymes]</td>\n      <td>[]</td>\n      <td>[Dick Haymes]</td>\n      <td>Dick HaymesLady of the Evening</td>\n      <td>[easy_listening, adult_standards, big_band, lo...</td>\n    </tr>\n  </tbody>\n</table>\n<p>5 rows × 25 columns</p>\n</div>"
     },
     "execution_count": 38,
     "metadata": {},
     "output_type": "execute_result"
    }
   ],
   "source": [
    "spotify_df.head()"
   ],
   "metadata": {
    "collapsed": false,
    "pycharm": {
     "name": "#%%\n"
    }
   }
  },
  {
   "cell_type": "code",
   "execution_count": 39,
   "outputs": [],
   "source": [
    "spotify_df['year'] = spotify_df['release_date'].apply(lambda x: x.split('-')[0])"
   ],
   "metadata": {
    "collapsed": false,
    "pycharm": {
     "name": "#%%\n"
    }
   }
  },
  {
   "cell_type": "code",
   "execution_count": 40,
   "outputs": [],
   "source": [
    "float_cols = spotify_df.dtypes[spotify_df.dtypes == 'float64'].index.values"
   ],
   "metadata": {
    "collapsed": false,
    "pycharm": {
     "name": "#%%\n"
    }
   }
  },
  {
   "cell_type": "code",
   "execution_count": 41,
   "outputs": [
    {
     "data": {
      "text/plain": "count    523475.000000\nmean         27.518993\nstd          18.306436\nmin           0.000000\n25%          13.000000\n50%          27.000000\n75%          40.000000\nmax         100.000000\nName: popularity, dtype: float64"
     },
     "execution_count": 41,
     "metadata": {},
     "output_type": "execute_result"
    }
   ],
   "source": [
    "spotify_df['popularity'].describe()"
   ],
   "metadata": {
    "collapsed": false,
    "pycharm": {
     "name": "#%%\n"
    }
   }
  },
  {
   "cell_type": "code",
   "execution_count": 42,
   "outputs": [],
   "source": [
    "# create 5 point buckets for popularity\n",
    "spotify_df['popularity_red'] = spotify_df['popularity'].apply(lambda x: int(x/5))"
   ],
   "metadata": {
    "collapsed": false,
    "pycharm": {
     "name": "#%%\n"
    }
   }
  },
  {
   "cell_type": "code",
   "execution_count": 43,
   "outputs": [],
   "source": [
    "# tfidf can't handle nulls so fill any null values with an empty list\n",
    "spotify_df['consolidates_genre_lists'] = spotify_df['consolidates_genre_lists'].apply(lambda d: d if isinstance(d, list) else [])"
   ],
   "metadata": {
    "collapsed": false,
    "pycharm": {
     "name": "#%%\n"
    }
   }
  },
  {
   "cell_type": "code",
   "execution_count": 44,
   "outputs": [
    {
     "data": {
      "text/plain": "                       id                                 name  popularity  \\\n0  35iwgR4jXetI318WEWsa1Q                                Carve           6   \n1  021ht4sdgPcrDgSk7JTbKY  Capítulo 2.16 - Banquero Anarquista           0   \n2  07A5yehtSnoedViJAZkNnc   Vivo para Quererte - Remasterizado           0   \n3  08FmqUhxtyLTn6pAh6bk45        El Prisionero - Remasterizado           0   \n4  08y9GfoqCWfOGsKdwojr5e                  Lady of the Evening           0   \n\n   duration_ms  explicit              artists                  id_artists  \\\n0       126903         0              ['Uli']  ['45tIt06XoI0Iio4LBEVpls']   \n1        98200         0  ['Fernando Pessoa']  ['14jtPCOoNZwquk5wd9DxrY']   \n2       181640         0  ['Ignacio Corsini']  ['5LiOoJbxVSAMkBS2fUm3X2']   \n3       176907         0  ['Ignacio Corsini']  ['5LiOoJbxVSAMkBS2fUm3X2']   \n4       163080         0      ['Dick Haymes']  ['3BiJGZsyX9sJchTqcSA7Su']   \n\n  release_date  danceability  energy  ...  valence    tempo  time_signature  \\\n0   1922-02-22         0.645  0.4450  ...    0.127  104.851               3   \n1   1922-06-01         0.695  0.2630  ...    0.655  102.009               1   \n2   1922-03-21         0.434  0.1770  ...    0.457  130.418               5   \n3   1922-03-21         0.321  0.0946  ...    0.397  169.980               3   \n4         1922         0.402  0.1580  ...    0.196  103.220               4   \n\n      artists_upd_v1  artists_upd_v2        artists_upd  \\\n0              [Uli]              []              [Uli]   \n1  [Fernando Pessoa]              []  [Fernando Pessoa]   \n2  [Ignacio Corsini]              []  [Ignacio Corsini]   \n3  [Ignacio Corsini]              []  [Ignacio Corsini]   \n4      [Dick Haymes]              []      [Dick Haymes]   \n\n                                        artists_song  \\\n0                                           UliCarve   \n1  Fernando PessoaCapítulo 2.16 - Banquero Anarqu...   \n2  Ignacio CorsiniVivo para Quererte - Remasterizado   \n3       Ignacio CorsiniEl Prisionero - Remasterizado   \n4                     Dick HaymesLady of the Evening   \n\n                            consolidates_genre_lists  year  popularity_red  \n0                                                 []  1922               1  \n1                                                 []  1922               0  \n2                             [tango, vintage_tango]  1922               0  \n3                             [tango, vintage_tango]  1922               0  \n4  [easy_listening, adult_standards, big_band, lo...  1922               0  \n\n[5 rows x 27 columns]",
      "text/html": "<div>\n<style scoped>\n    .dataframe tbody tr th:only-of-type {\n        vertical-align: middle;\n    }\n\n    .dataframe tbody tr th {\n        vertical-align: top;\n    }\n\n    .dataframe thead th {\n        text-align: right;\n    }\n</style>\n<table border=\"1\" class=\"dataframe\">\n  <thead>\n    <tr style=\"text-align: right;\">\n      <th></th>\n      <th>id</th>\n      <th>name</th>\n      <th>popularity</th>\n      <th>duration_ms</th>\n      <th>explicit</th>\n      <th>artists</th>\n      <th>id_artists</th>\n      <th>release_date</th>\n      <th>danceability</th>\n      <th>energy</th>\n      <th>...</th>\n      <th>valence</th>\n      <th>tempo</th>\n      <th>time_signature</th>\n      <th>artists_upd_v1</th>\n      <th>artists_upd_v2</th>\n      <th>artists_upd</th>\n      <th>artists_song</th>\n      <th>consolidates_genre_lists</th>\n      <th>year</th>\n      <th>popularity_red</th>\n    </tr>\n  </thead>\n  <tbody>\n    <tr>\n      <th>0</th>\n      <td>35iwgR4jXetI318WEWsa1Q</td>\n      <td>Carve</td>\n      <td>6</td>\n      <td>126903</td>\n      <td>0</td>\n      <td>['Uli']</td>\n      <td>['45tIt06XoI0Iio4LBEVpls']</td>\n      <td>1922-02-22</td>\n      <td>0.645</td>\n      <td>0.4450</td>\n      <td>...</td>\n      <td>0.127</td>\n      <td>104.851</td>\n      <td>3</td>\n      <td>[Uli]</td>\n      <td>[]</td>\n      <td>[Uli]</td>\n      <td>UliCarve</td>\n      <td>[]</td>\n      <td>1922</td>\n      <td>1</td>\n    </tr>\n    <tr>\n      <th>1</th>\n      <td>021ht4sdgPcrDgSk7JTbKY</td>\n      <td>Capítulo 2.16 - Banquero Anarquista</td>\n      <td>0</td>\n      <td>98200</td>\n      <td>0</td>\n      <td>['Fernando Pessoa']</td>\n      <td>['14jtPCOoNZwquk5wd9DxrY']</td>\n      <td>1922-06-01</td>\n      <td>0.695</td>\n      <td>0.2630</td>\n      <td>...</td>\n      <td>0.655</td>\n      <td>102.009</td>\n      <td>1</td>\n      <td>[Fernando Pessoa]</td>\n      <td>[]</td>\n      <td>[Fernando Pessoa]</td>\n      <td>Fernando PessoaCapítulo 2.16 - Banquero Anarqu...</td>\n      <td>[]</td>\n      <td>1922</td>\n      <td>0</td>\n    </tr>\n    <tr>\n      <th>2</th>\n      <td>07A5yehtSnoedViJAZkNnc</td>\n      <td>Vivo para Quererte - Remasterizado</td>\n      <td>0</td>\n      <td>181640</td>\n      <td>0</td>\n      <td>['Ignacio Corsini']</td>\n      <td>['5LiOoJbxVSAMkBS2fUm3X2']</td>\n      <td>1922-03-21</td>\n      <td>0.434</td>\n      <td>0.1770</td>\n      <td>...</td>\n      <td>0.457</td>\n      <td>130.418</td>\n      <td>5</td>\n      <td>[Ignacio Corsini]</td>\n      <td>[]</td>\n      <td>[Ignacio Corsini]</td>\n      <td>Ignacio CorsiniVivo para Quererte - Remasterizado</td>\n      <td>[tango, vintage_tango]</td>\n      <td>1922</td>\n      <td>0</td>\n    </tr>\n    <tr>\n      <th>3</th>\n      <td>08FmqUhxtyLTn6pAh6bk45</td>\n      <td>El Prisionero - Remasterizado</td>\n      <td>0</td>\n      <td>176907</td>\n      <td>0</td>\n      <td>['Ignacio Corsini']</td>\n      <td>['5LiOoJbxVSAMkBS2fUm3X2']</td>\n      <td>1922-03-21</td>\n      <td>0.321</td>\n      <td>0.0946</td>\n      <td>...</td>\n      <td>0.397</td>\n      <td>169.980</td>\n      <td>3</td>\n      <td>[Ignacio Corsini]</td>\n      <td>[]</td>\n      <td>[Ignacio Corsini]</td>\n      <td>Ignacio CorsiniEl Prisionero - Remasterizado</td>\n      <td>[tango, vintage_tango]</td>\n      <td>1922</td>\n      <td>0</td>\n    </tr>\n    <tr>\n      <th>4</th>\n      <td>08y9GfoqCWfOGsKdwojr5e</td>\n      <td>Lady of the Evening</td>\n      <td>0</td>\n      <td>163080</td>\n      <td>0</td>\n      <td>['Dick Haymes']</td>\n      <td>['3BiJGZsyX9sJchTqcSA7Su']</td>\n      <td>1922</td>\n      <td>0.402</td>\n      <td>0.1580</td>\n      <td>...</td>\n      <td>0.196</td>\n      <td>103.220</td>\n      <td>4</td>\n      <td>[Dick Haymes]</td>\n      <td>[]</td>\n      <td>[Dick Haymes]</td>\n      <td>Dick HaymesLady of the Evening</td>\n      <td>[easy_listening, adult_standards, big_band, lo...</td>\n      <td>1922</td>\n      <td>0</td>\n    </tr>\n  </tbody>\n</table>\n<p>5 rows × 27 columns</p>\n</div>"
     },
     "execution_count": 44,
     "metadata": {},
     "output_type": "execute_result"
    }
   ],
   "source": [
    "spotify_df.head()"
   ],
   "metadata": {
    "collapsed": false,
    "pycharm": {
     "name": "#%%\n"
    }
   }
  },
  {
   "cell_type": "code",
   "execution_count": 45,
   "outputs": [],
   "source": [
    "period = [str(i) for i in range(2000,2022)]\n",
    "draft = spotify_df[spotify_df['year'].isin(period)]"
   ],
   "metadata": {
    "collapsed": false,
    "pycharm": {
     "name": "#%%\n"
    }
   }
  },
  {
   "cell_type": "code",
   "execution_count": 46,
   "outputs": [
    {
     "data": {
      "text/plain": "(186524, 27)"
     },
     "execution_count": 46,
     "metadata": {},
     "output_type": "execute_result"
    }
   ],
   "source": [
    "draft.shape"
   ],
   "metadata": {
    "collapsed": false,
    "pycharm": {
     "name": "#%%\n"
    }
   }
  },
  {
   "cell_type": "code",
   "execution_count": 47,
   "outputs": [],
   "source": [
    "draft.to_csv('draft.csv')"
   ],
   "metadata": {
    "collapsed": false,
    "pycharm": {
     "name": "#%%\n"
    }
   }
  },
  {
   "cell_type": "code",
   "execution_count": 62,
   "outputs": [],
   "source": [
    "#simple function to create OHE features\n",
    "#this gets passed later on\n",
    "def ohe_prep(df, column, new_name):\n",
    "    \"\"\"\n",
    "    Create One Hot Encoded features of a specific column\n",
    "\n",
    "    Parameters:\n",
    "        df (pandas dataframe): Spotify Dataframe\n",
    "        column (str): Column to be processed\n",
    "        new_name (str): new column name to be used\n",
    "\n",
    "    Returns:\n",
    "        tf_df: One hot encoded features\n",
    "    \"\"\"\n",
    "\n",
    "    tf_df = pd.get_dummies(df[column])\n",
    "    feature_names = tf_df.columns\n",
    "    tf_df.columns = [new_name + \"|\" + str(i) for i in feature_names]\n",
    "    tf_df.reset_index(drop = True, inplace = True)\n",
    "    return tf_df"
   ],
   "metadata": {
    "collapsed": false,
    "pycharm": {
     "name": "#%%\n"
    }
   }
  },
  {
   "cell_type": "code",
   "execution_count": 78,
   "outputs": [],
   "source": [
    "#function to build entire feature set\n",
    "def create_feature_set(df, float_cols):\n",
    "    \"\"\"\n",
    "    Process spotify df to create a final set of features that will be used to generate recommendations\n",
    "\n",
    "    Parameters:\n",
    "        df (pandas dataframe): Spotify Dataframe\n",
    "        float_cols (list(str)): List of float columns that will be scaled\n",
    "\n",
    "    Returns:\n",
    "        final: final set of features\n",
    "    \"\"\"\n",
    "\n",
    "    #tfidf genre lists\n",
    "    tfidf = TfidfVectorizer(stop_words='english',min_df=0.005)\n",
    "    tfidf_matrix =  tfidf.fit_transform(df['consolidates_genre_lists'].apply(lambda x: \" \".join(x)))\n",
    "    genre_df = pd.DataFrame(tfidf_matrix.toarray())\n",
    "    genre_df.columns = ['genre' + \"|\" + i for i in tfidf.get_feature_names()]\n",
    "    genre_df.reset_index(drop = True, inplace=True)\n",
    "\n",
    "    #explicity_ohe = ohe_prep(df, 'explicit','exp')\n",
    "    year_ohe = ohe_prep(df, 'year','year') * 0.5\n",
    "    popularity_ohe = ohe_prep(df, 'popularity_red','pop') * 0.15\n",
    "\n",
    "    #scale float columns\n",
    "    floats = df[float_cols].reset_index(drop = True)\n",
    "    scaler = MinMaxScaler()\n",
    "    floats_scaled = pd.DataFrame(scaler.fit_transform(floats), columns = floats.columns) * 0.2\n",
    "\n",
    "    #concanenate all features\n",
    "    final = pd.concat([genre_df, floats_scaled, popularity_ohe, year_ohe], axis = 1)\n",
    "\n",
    "    #add song id\n",
    "    final['id']=df['id'].values\n",
    "\n",
    "    return final"
   ],
   "metadata": {
    "collapsed": false,
    "pycharm": {
     "name": "#%%\n"
    }
   }
  },
  {
   "cell_type": "code",
   "execution_count": 79,
   "outputs": [],
   "source": [
    "complete_feature_set = create_feature_set(draft, float_cols=float_cols)#.mean(axis = 0)"
   ],
   "metadata": {
    "collapsed": false,
    "pycharm": {
     "name": "#%%\n"
    }
   }
  },
  {
   "cell_type": "code",
   "execution_count": 80,
   "outputs": [
    {
     "data": {
      "text/plain": "   genre|adult_standards  genre|album_rock  genre|alternative_metal  \\\n0               0.619261               0.0                      0.0   \n1               0.000000               0.0                      0.0   \n2               0.619261               0.0                      0.0   \n3               0.619261               0.0                      0.0   \n4               1.000000               0.0                      0.0   \n\n   genre|alternative_rock  genre|anime  genre|argentine_rock  \\\n0                     0.0          0.0                   0.0   \n1                     0.0          0.0                   0.0   \n2                     0.0          0.0                   0.0   \n3                     0.0          0.0                   0.0   \n4                     0.0          0.0                   0.0   \n\n   genre|brazilian_rock  genre|bulgarian_pop  genre|cantautor  genre|cantopop  \\\n0                   0.0                  0.0              0.0             0.0   \n1                   0.0                  0.0              0.0             0.0   \n2                   0.0                  0.0              0.0             0.0   \n3                   0.0                  0.0              0.0             0.0   \n4                   0.0                  0.0              0.0             0.0   \n\n   ...  year|2013  year|2014  year|2015  year|2016  year|2017  year|2018  \\\n0  ...        0.0        0.0        0.0        0.0        0.0        0.0   \n1  ...        0.0        0.0        0.0        0.0        0.0        0.0   \n2  ...        0.0        0.0        0.0        0.0        0.0        0.0   \n3  ...        0.0        0.0        0.0        0.0        0.0        0.0   \n4  ...        0.0        0.0        0.0        0.0        0.0        0.5   \n\n   year|2019  year|2020  year|2021                      id  \n0        0.0        0.0        0.0  6catF1lDhNTjjGa2GxRQNN  \n1        0.0        0.5        0.0  6Pkt6qVikqPBt9bEQy8iTz  \n2        0.0        0.0        0.0  4aSw1QJIMwYSoDEgzgdCJL  \n3        0.0        0.0        0.0  0ZMMtH875IR2TfkyC4PolD  \n4        0.0        0.0        0.0  1hx7X9cMXHWJjknb9O6Ava  \n\n[5 rows x 180 columns]",
      "text/html": "<div>\n<style scoped>\n    .dataframe tbody tr th:only-of-type {\n        vertical-align: middle;\n    }\n\n    .dataframe tbody tr th {\n        vertical-align: top;\n    }\n\n    .dataframe thead th {\n        text-align: right;\n    }\n</style>\n<table border=\"1\" class=\"dataframe\">\n  <thead>\n    <tr style=\"text-align: right;\">\n      <th></th>\n      <th>genre|adult_standards</th>\n      <th>genre|album_rock</th>\n      <th>genre|alternative_metal</th>\n      <th>genre|alternative_rock</th>\n      <th>genre|anime</th>\n      <th>genre|argentine_rock</th>\n      <th>genre|brazilian_rock</th>\n      <th>genre|bulgarian_pop</th>\n      <th>genre|cantautor</th>\n      <th>genre|cantopop</th>\n      <th>...</th>\n      <th>year|2013</th>\n      <th>year|2014</th>\n      <th>year|2015</th>\n      <th>year|2016</th>\n      <th>year|2017</th>\n      <th>year|2018</th>\n      <th>year|2019</th>\n      <th>year|2020</th>\n      <th>year|2021</th>\n      <th>id</th>\n    </tr>\n  </thead>\n  <tbody>\n    <tr>\n      <th>0</th>\n      <td>0.619261</td>\n      <td>0.0</td>\n      <td>0.0</td>\n      <td>0.0</td>\n      <td>0.0</td>\n      <td>0.0</td>\n      <td>0.0</td>\n      <td>0.0</td>\n      <td>0.0</td>\n      <td>0.0</td>\n      <td>...</td>\n      <td>0.0</td>\n      <td>0.0</td>\n      <td>0.0</td>\n      <td>0.0</td>\n      <td>0.0</td>\n      <td>0.0</td>\n      <td>0.0</td>\n      <td>0.0</td>\n      <td>0.0</td>\n      <td>6catF1lDhNTjjGa2GxRQNN</td>\n    </tr>\n    <tr>\n      <th>1</th>\n      <td>0.000000</td>\n      <td>0.0</td>\n      <td>0.0</td>\n      <td>0.0</td>\n      <td>0.0</td>\n      <td>0.0</td>\n      <td>0.0</td>\n      <td>0.0</td>\n      <td>0.0</td>\n      <td>0.0</td>\n      <td>...</td>\n      <td>0.0</td>\n      <td>0.0</td>\n      <td>0.0</td>\n      <td>0.0</td>\n      <td>0.0</td>\n      <td>0.0</td>\n      <td>0.0</td>\n      <td>0.5</td>\n      <td>0.0</td>\n      <td>6Pkt6qVikqPBt9bEQy8iTz</td>\n    </tr>\n    <tr>\n      <th>2</th>\n      <td>0.619261</td>\n      <td>0.0</td>\n      <td>0.0</td>\n      <td>0.0</td>\n      <td>0.0</td>\n      <td>0.0</td>\n      <td>0.0</td>\n      <td>0.0</td>\n      <td>0.0</td>\n      <td>0.0</td>\n      <td>...</td>\n      <td>0.0</td>\n      <td>0.0</td>\n      <td>0.0</td>\n      <td>0.0</td>\n      <td>0.0</td>\n      <td>0.0</td>\n      <td>0.0</td>\n      <td>0.0</td>\n      <td>0.0</td>\n      <td>4aSw1QJIMwYSoDEgzgdCJL</td>\n    </tr>\n    <tr>\n      <th>3</th>\n      <td>0.619261</td>\n      <td>0.0</td>\n      <td>0.0</td>\n      <td>0.0</td>\n      <td>0.0</td>\n      <td>0.0</td>\n      <td>0.0</td>\n      <td>0.0</td>\n      <td>0.0</td>\n      <td>0.0</td>\n      <td>...</td>\n      <td>0.0</td>\n      <td>0.0</td>\n      <td>0.0</td>\n      <td>0.0</td>\n      <td>0.0</td>\n      <td>0.0</td>\n      <td>0.0</td>\n      <td>0.0</td>\n      <td>0.0</td>\n      <td>0ZMMtH875IR2TfkyC4PolD</td>\n    </tr>\n    <tr>\n      <th>4</th>\n      <td>1.000000</td>\n      <td>0.0</td>\n      <td>0.0</td>\n      <td>0.0</td>\n      <td>0.0</td>\n      <td>0.0</td>\n      <td>0.0</td>\n      <td>0.0</td>\n      <td>0.0</td>\n      <td>0.0</td>\n      <td>...</td>\n      <td>0.0</td>\n      <td>0.0</td>\n      <td>0.0</td>\n      <td>0.0</td>\n      <td>0.0</td>\n      <td>0.5</td>\n      <td>0.0</td>\n      <td>0.0</td>\n      <td>0.0</td>\n      <td>1hx7X9cMXHWJjknb9O6Ava</td>\n    </tr>\n  </tbody>\n</table>\n<p>5 rows × 180 columns</p>\n</div>"
     },
     "execution_count": 80,
     "metadata": {},
     "output_type": "execute_result"
    }
   ],
   "source": [
    "complete_feature_set.head()"
   ],
   "metadata": {
    "collapsed": false,
    "pycharm": {
     "name": "#%%\n"
    }
   }
  },
  {
   "cell_type": "code",
   "execution_count": 81,
   "outputs": [
    {
     "data": {
      "text/plain": "(186524, 180)"
     },
     "execution_count": 81,
     "metadata": {},
     "output_type": "execute_result"
    }
   ],
   "source": [
    "complete_feature_set.shape"
   ],
   "metadata": {
    "collapsed": false,
    "pycharm": {
     "name": "#%%\n"
    }
   }
  },
  {
   "cell_type": "code",
   "execution_count": 82,
   "outputs": [],
   "source": [
    "complete_feature_set.to_csv(\"complete_feature_set.csv\")"
   ],
   "metadata": {
    "collapsed": false,
    "pycharm": {
     "name": "#%%\n"
    }
   }
  }
 ],
 "metadata": {
  "kernelspec": {
   "display_name": "Python 3",
   "language": "python",
   "name": "python3"
  },
  "language_info": {
   "codemirror_mode": {
    "name": "ipython",
    "version": 2
   },
   "file_extension": ".py",
   "mimetype": "text/x-python",
   "name": "python",
   "nbconvert_exporter": "python",
   "pygments_lexer": "ipython2",
   "version": "2.7.6"
  }
 },
 "nbformat": 4,
 "nbformat_minor": 0
}